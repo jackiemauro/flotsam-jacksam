{
 "cells": [
  {
   "cell_type": "code",
   "execution_count": null,
   "metadata": {
    "collapsed": true
   },
   "outputs": [],
   "source": [
    "# working to do the zombies networks model"
   ]
  },
  {
   "cell_type": "code",
   "execution_count": 1,
   "metadata": {
    "collapsed": false
   },
   "outputs": [
    {
     "name": "stdout",
     "output_type": "stream",
     "text": [
      "Couldn't import dot_parser, loading of dot files will not be possible.\n"
     ]
    }
   ],
   "source": [
    "%matplotlib inline\n",
    "\n",
    "import numpy as np\n",
    "import random as rd\n",
    "import pandas as pd\n",
    "import matplotlib.pyplot as plt\n",
    "from matplotlib.pyplot import pause\n",
    "import networkx as nx\n",
    "import matplotlib as mt\n",
    "import graphviz\n",
    "from networkx import graphviz_layout\n",
    "import pydot\n",
    "import pylab"
   ]
  },
  {
   "cell_type": "code",
   "execution_count": 2,
   "metadata": {
    "collapsed": false
   },
   "outputs": [],
   "source": [
    "# in case you want to name your people\n",
    "#http = urllib3.PoolManager()\n",
    "#names = http.request('GET', 'http://deron.meranda.us/data/census-derived-all-first.txt')\n",
    "\n",
    "# want to start assigning ppl value so fighting may actually be worth it\n",
    "# ie, if you fight, you can split the value of the ppl you kill\n",
    "# if you join, they keep their shit\n",
    "\n",
    "# should make babies not useful -- needs to take some number of rounds for them to grow up\n",
    "\n",
    "# should make human/zombie strength an input\n",
    "\n",
    "# want to animate the graph so you can see what happens at each step\n",
    "\n",
    "# for some reason the crews are not actually disjoint"
   ]
  },
  {
   "cell_type": "code",
   "execution_count": 260,
   "metadata": {
    "collapsed": false
   },
   "outputs": [],
   "source": [
    "def start( n, pr ):\n",
    "    # clears graph and starts a new one\n",
    "    # n people, with pr probability of getting infected at stage 1\n",
    "    # needs error handling for probability between 0 and 1, though this will get caught by python\n",
    "    \n",
    "    global G; global c; global zom; global hum\n",
    "    \n",
    "    hum = []; zom = []; c = []\n",
    "    \n",
    "    try:G.clear()\n",
    "    except: print(\"no error: nothing to clear\")\n",
    "\n",
    "    # generate your starting graph\n",
    "    G=nx.Graph()\n",
    "    \n",
    "    k = 1\n",
    "    while k <= n:\n",
    "        #randomly make a node human or zombie\n",
    "        G.add_node(k, state = np.random.choice(['zombie','human'], p=[pr,1-pr])) \n",
    "\n",
    "        # if it's human, collect it, color it blue and connect it to humans\n",
    "        if G.node[k]['state']=='human':\n",
    "            hum.append(k)\n",
    "            c.append('blue')\n",
    "            G.add_edge(k, np.random.choice(hum))\n",
    "\n",
    "        # if it's a zombie, collect it, color it red and connect it to zombies    \n",
    "        else:\n",
    "            zom.append(k)\n",
    "            c.append('red')\n",
    "            G.add_edge(k, np.random.choice(zom))\n",
    "        k +=1"
   ]
  },
  {
   "cell_type": "code",
   "execution_count": 261,
   "metadata": {
    "collapsed": false
   },
   "outputs": [],
   "source": [
    "def pick_person( hum ):\n",
    "    global me\n",
    "    while True:\n",
    "        me = int(input(\"pick a person from %s \"%(hum)))\n",
    "        if me in zom: print(\"pick an actual person\")\n",
    "        else: break"
   ]
  },
  {
   "cell_type": "code",
   "execution_count": 262,
   "metadata": {
    "collapsed": true
   },
   "outputs": [],
   "source": [
    "def begin_round( n, me ):\n",
    "    global game; global e2; global crew2; global zs; global crew1; global hs\n",
    "    e2 = np.random.choice(G.nodes())\n",
    "    for i in list(nx.connected_components(G)):\n",
    "        if me in i: crew1 = i; hs = len(i)\n",
    "    for i in list(nx.connected_components(G)):\n",
    "        if e2 in i: crew2 = i; zs = len(i)\n",
    "    if crew2 == crew1: game = 0 # you're just hanging out w your crew\n",
    "    elif G.node[e2]['state'] == 'human': game = 1 # human to human encounter\n",
    "    else: game = 2 # zombie to zombie encounter"
   ]
  },
  {
   "cell_type": "code",
   "execution_count": 263,
   "metadata": {
    "collapsed": false
   },
   "outputs": [],
   "source": [
    "def human_fight( k, hs, zs, crew1, crew2, e2, me ):\n",
    "    global G\n",
    "    dec = input(\"fight, flee or join?\")\n",
    "        \n",
    "    if dec == \"fight\":\n",
    "        print(\"round %d. you said fight, so we're fighting. its the %d of you against %d\"%(k, hs, zs))\n",
    "        for nd in crew1:\n",
    "            #your ppl can die\n",
    "            try: \n",
    "                G.node[nd][\"state\"]\n",
    "                if .5*hs - .5*zs + np.random.normal() < -0.7:\n",
    "                    print(\"round %d. your buddy human %d is dead\"%(k, nd))\n",
    "                    G.node[nd][\"state\"] = 'dead' # person nd is dead\n",
    "                else: G.add_edge(nd,e2) #whoever doesn't die, joins\n",
    "            except:print(\"skip\")\n",
    "\n",
    "        for nd in crew2:\n",
    "            # their people can die\n",
    "            try: \n",
    "                G.node[nd][\"state\"]\n",
    "                if  .5*hs - .5*zs + np.random.normal() > 0.7:\n",
    "                    print(\"round %d. that loser human %d is dead\"%(k, nd))\n",
    "                    G.node[nd][\"state\"] = 'dead' # person is dead\n",
    "                else: G.add_edge(nd,me)\n",
    "            except: print(\"skip\")\n",
    "\n",
    "    elif dec == \"join\": \n",
    "        print(\"round %d. yea! further the human project!\"%(k))\n",
    "        if np.random.rand() > .8:\n",
    "            b = max(G.nodes())+1\n",
    "            G.add_node(b, state = 'human')\n",
    "            G.add_edge(b,me)\n",
    "            G.add_edge(b,e2)\n",
    "            print(\"round %d. love wins, baby %d born\"%(k, b))\n",
    "            G.add_edge(me,e2)\n",
    "        else:\n",
    "            G.add_edge(me,e2)\n",
    "            \n",
    "    else: print(\"round %d. successful fleeing\"%(k))"
   ]
  },
  {
   "cell_type": "code",
   "execution_count": 303,
   "metadata": {
    "collapsed": false
   },
   "outputs": [],
   "source": [
    "def zombie_fight(k,zs,hs,crew1,crew2,e2):\n",
    "    global G\n",
    "    print(\"round %d. %d zombies attacking %d humans\"%(k, zs, hs))\n",
    "    # see what happens to the humans: roll a die for each person in human group\n",
    "    for nd in crew1:\n",
    "        try: \n",
    "            G.node[nd][\"state\"]\n",
    "            if  -0.4*hs + .1*zs + np.random.normal() > 0.7:\n",
    "                print(\"round %d. human %d infected\"%(k, nd))\n",
    "                G.node[nd]['state'] = 'zombie' # person is a zombie\n",
    "                G.remove_edges_from(G.edges(nd)) # person disconnected from all humans\n",
    "                G.add_edge(nd,e2) # person joins zombie herd\n",
    "            elif -.6*hs + .1*zs + np.random.rand() > 0.7:\n",
    "                print(\"round %d. human %d dead\"%(k, nd))\n",
    "                G.node[nd][\"state\"] = 'dead' # person is dead\n",
    "        except: print(\"skip\")\n",
    "    # see what happens to the zombies\n",
    "    \n",
    "    for nd in crew2:\n",
    "        try: \n",
    "            G.node[nd][\"state\"]\n",
    "            if .5 - 0.1*zs + .1*hs + np.random.normal() > 1:\n",
    "                print(\"round %d. zombie %d killed\"%(k, nd))\n",
    "                G.node[nd][\"state\"] = 'dead' # zombie is dead\n",
    "        except: print(\"skip\")"
   ]
  },
  {
   "cell_type": "code",
   "execution_count": 304,
   "metadata": {
    "collapsed": false
   },
   "outputs": [],
   "source": [
    "def clean_up():\n",
    "    global G; global c\n",
    "    c = []\n",
    "    for i in G.nodes():\n",
    "        try: \n",
    "            if G.node[i]['state'] == 'dead': G.remove_node(i)\n",
    "            elif G.node[i]['state'] == 'human': c.append('blue')\n",
    "            elif G.node[i]['state'] == 'zombie':c.append('red')\n",
    "        except:\n",
    "            G.remove_node(i)"
   ]
  },
  {
   "cell_type": "code",
   "execution_count": 305,
   "metadata": {
    "collapsed": false
   },
   "outputs": [],
   "source": [
    "def get_fig(G,c):\n",
    "    # would lik to figure out how to animate this as you go\n",
    "    nx.draw(G, node_color = c, with_labels = True, node_size = 500)"
   ]
  },
  {
   "cell_type": "code",
   "execution_count": 306,
   "metadata": {
    "collapsed": false
   },
   "outputs": [],
   "source": [
    "def apocalypse( rounds, n, pr ):\n",
    "    start( n, pr )\n",
    "    pick_person( hum )\n",
    "    global k\n",
    "    k = 1\n",
    "    while k <= rounds:\n",
    "        begin_round( n, me )\n",
    "        if game == 1: human_fight(  k, hs, zs, crew1, crew2, e2, me )\n",
    "        elif game == 2: zombie_fight( k,zs,hs,crew1,crew2,e2 )\n",
    "        else: print(\"you just met one of your own for lunch: nothing doing\")\n",
    "        clean_up()\n",
    "        try: \n",
    "            G.node[me][\"state\"]\n",
    "            if G.node[me][\"state\"] == 'dead': \n",
    "                print(\"you died, game over\")\n",
    "                break\n",
    "            elif G.node[me][\"state\"] == 'zombie':\n",
    "                print(\"you're undead, game over\")\n",
    "                break\n",
    "            else: k +=1\n",
    "        except: \n",
    "            print(\"something bad happened, game over\")\n",
    "            break\n",
    "    get_fig(G,c)"
   ]
  },
  {
   "cell_type": "code",
   "execution_count": 307,
   "metadata": {
    "collapsed": false
   },
   "outputs": [
    {
     "name": "stdout",
     "output_type": "stream",
     "text": [
      "pick a person from [7, 8, 9, 12, 13, 14, 15, 16] 7\n",
      "round 1. 12 zombies attacking 3 humans\n",
      "round 1. human 16 infected\n",
      "round 1. zombie 3 killed\n",
      "round 1. zombie 20 killed\n",
      "round 2. 11 zombies attacking 2 humans\n",
      "round 2. human 14 infected\n",
      "round 2. human 7 infected\n",
      "round 2. zombie 5 killed\n",
      "you're undead, game over\n"
     ]
    },
    {
     "data": {
      "image/png": "[encoded data removed]",
      "text/plain": [
       "<matplotlib.figure.Figure at 0x90ab390>"
      ]
     },
     "metadata": {},
     "output_type": "display_data"
    }
   ],
   "source": [
    "apocalypse(10, 20, .8)"
   ]
  },
  {
   "cell_type": "code",
   "execution_count": null,
   "metadata": {
    "collapsed": true
   },
   "outputs": [],
   "source": [
    "#Can run step by step here:"
   ]
  },
  {
   "cell_type": "code",
   "execution_count": 201,
   "metadata": {
    "collapsed": false
   },
   "outputs": [],
   "source": [
    "start(40,.7)"
   ]
  },
  {
   "cell_type": "code",
   "execution_count": 202,
   "metadata": {
    "collapsed": false
   },
   "outputs": [
    {
     "data": {
      "image/png": "[encoded data removed]",
      "text/plain": [
       "<matplotlib.figure.Figure at 0xab4ae10>"
      ]
     },
     "metadata": {},
     "output_type": "display_data"
    }
   ],
   "source": [
    "nx.draw(G, node_color = c, with_labels = True, node_size = 500)"
   ]
  },
  {
   "cell_type": "code",
   "execution_count": 203,
   "metadata": {
    "collapsed": false
   },
   "outputs": [
    {
     "name": "stdout",
     "output_type": "stream",
     "text": [
      "pick a person from [3, 11, 12, 15, 18, 19, 22, 25, 26, 28, 32, 35, 36, 37, 39, 40] 3\n"
     ]
    }
   ],
   "source": [
    "pick_person(hum)"
   ]
  },
  {
   "cell_type": "code",
   "execution_count": 220,
   "metadata": {
    "collapsed": false
   },
   "outputs": [
    {
     "data": {
      "text/plain": [
       "1"
      ]
     },
     "execution_count": 220,
     "metadata": {},
     "output_type": "execute_result"
    }
   ],
   "source": [
    "begin_round(1,me)\n",
    "game"
   ]
  },
  {
   "cell_type": "code",
   "execution_count": 221,
   "metadata": {
    "collapsed": false
   },
   "outputs": [
    {
     "data": {
      "text/plain": [
       "{11, 36}"
      ]
     },
     "execution_count": 221,
     "metadata": {},
     "output_type": "execute_result"
    }
   ],
   "source": [
    "crew2"
   ]
  },
  {
   "cell_type": "code",
   "execution_count": 192,
   "metadata": {
    "collapsed": false
   },
   "outputs": [
    {
     "name": "stdout",
     "output_type": "stream",
     "text": [
      "round 5. 7 zombies attacking 5 humans\n"
     ]
    }
   ],
   "source": [
    "#if game is 2, do a zombie fight\n",
    "zombie_fight(k,zs,hs,crew1,crew2,e2)"
   ]
  },
  {
   "cell_type": "code",
   "execution_count": 222,
   "metadata": {
    "collapsed": false
   },
   "outputs": [
    {
     "name": "stdout",
     "output_type": "stream",
     "text": [
      "fight, flee or join?fight\n",
      "round 5. you said fight, so we're fighting. its the 13 of you against 2\n",
      "round 5. that loser human 11 is dead\n",
      "round 5. that loser human 36 is dead\n"
     ]
    }
   ],
   "source": [
    "#if game is 1, do a human fight\n",
    "human_fight(  k, hs, zs, crew1, crew2, e2, me )"
   ]
  },
  {
   "cell_type": "code",
   "execution_count": 223,
   "metadata": {
    "collapsed": true
   },
   "outputs": [],
   "source": [
    "clean_up()"
   ]
  },
  {
   "cell_type": "code",
   "execution_count": 224,
   "metadata": {
    "collapsed": false
   },
   "outputs": [
    {
     "data": {
      "image/png": "[encoded data removed]",
      "text/plain": [
       "<matplotlib.figure.Figure at 0xab0b898>"
      ]
     },
     "metadata": {},
     "output_type": "display_data"
    }
   ],
   "source": [
    "nx.draw(G, node_color = c, with_labels = True, node_size = 500)"
   ]
  }
 ],
 "metadata": {
  "kernelspec": {
   "display_name": "Python 3",
   "language": "python",
   "name": "python3"
  },
  "language_info": {
   "codemirror_mode": {
    "name": "ipython",
    "version": 3
   },
   "file_extension": ".py",
   "mimetype": "text/x-python",
   "name": "python",
   "nbconvert_exporter": "python",
   "pygments_lexer": "ipython3",
   "version": "3.5.1"
  }
 },
 "nbformat": 4,
 "nbformat_minor": 0
}
