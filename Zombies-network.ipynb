{
 "cells": [
  {
   "cell_type": "code",
   "execution_count": null,
   "metadata": {
    "collapsed": true
   },
   "outputs": [],
   "source": [
    "# working to do the zombies networks model"
   ]
  },
  {
   "cell_type": "code",
   "execution_count": 1,
   "metadata": {
    "collapsed": false
   },
   "outputs": [
    {
     "name": "stdout",
     "output_type": "stream",
     "text": [
      "Couldn't import dot_parser, loading of dot files will not be possible.\n"
     ]
    }
   ],
   "source": [
    "%matplotlib inline\n",
    "\n",
    "import numpy as np\n",
    "import random as rd\n",
    "import pandas as pd\n",
    "import matplotlib.pyplot as plt\n",
    "from matplotlib.pyplot import pause\n",
    "import networkx as nx\n",
    "import matplotlib as mt\n",
    "import graphviz\n",
    "from networkx import graphviz_layout\n",
    "import pydot\n",
    "import pylab"
   ]
  },
  {
   "cell_type": "code",
   "execution_count": 2,
   "metadata": {
    "collapsed": false
   },
   "outputs": [],
   "source": [
    "# in case you want to name your people\n",
    "#http = urllib3.PoolManager()\n",
    "#names = http.request('GET', 'http://deron.meranda.us/data/census-derived-all-first.txt')\n",
    "\n",
    "# want to start assigning ppl value so fighting may actually be worth it\n",
    "# ie, if you fight, you can split the value of the ppl you kill\n",
    "# if you join, they keep their shit\n",
    "\n",
    "# should make babies not useful -- needs to take some number of rounds for them to grow up\n",
    "\n",
    "# should make human/zombie strength an input\n",
    "\n",
    "# want to animate the graph so you can see what happens at each step\n",
    "\n",
    "# for some reason the crews are not actually disjoint"
   ]
  },
  {
   "cell_type": "code",
   "execution_count": 14,
   "metadata": {
    "collapsed": false
   },
   "outputs": [],
   "source": [
    "def start( n, pr ):\n",
    "    # clears graph and starts a new one\n",
    "    # n people, with pr probability of getting infected at stage 1\n",
    "    # needs error handling for probability between 0 and 1, though this will get caught by python\n",
    "    \n",
    "    global G; global c; global zom; global hum\n",
    "    \n",
    "    hum = []; zom = []; c = []\n",
    "    \n",
    "    try:G.clear()\n",
    "    except: print(\"no error: nothing to clear\")\n",
    "\n",
    "    # generate your starting graph\n",
    "    G=nx.Graph()\n",
    "    \n",
    "    k = 1\n",
    "    while k <= n:\n",
    "        #randomly make a node human or zombie\n",
    "        G.add_node(k, state = np.random.choice(['zombie','human'], p=[pr,1-pr])) \n",
    "\n",
    "        # if it's human, collect it, color it blue and connect it to humans\n",
    "        if G.node[k]['state']=='human':\n",
    "            hum.append(k)\n",
    "            c.append('blue')\n",
    "            G.add_edge(k, np.random.choice(hum))\n",
    "\n",
    "        # if it's a zombie, collect it, color it red and connect it to zombies    \n",
    "        else:\n",
    "            zom.append(k)\n",
    "            c.append('red')\n",
    "            G.add_edge(k, np.random.choice(zom))\n",
    "        k +=1"
   ]
  },
  {
   "cell_type": "code",
   "execution_count": 15,
   "metadata": {
    "collapsed": true
   },
   "outputs": [],
   "source": [
    "def begin_round( n ):\n",
    "    global game; global e1; global e2; global crew2; global l2; global crew1; global l1; global G\n",
    "    e1 = np.random.choice(G.nodes())\n",
    "    e2 = np.random.choice(G.nodes())\n",
    "    for i in list(nx.connected_components(G)):\n",
    "        if e1 in i: crew1 = i; l1 = len(i)\n",
    "    for i in list(nx.connected_components(G)):\n",
    "        if e2 in i: crew2 = i; l2 = len(i)\n",
    "    if G.node[e2]['state'] == G.node[e1]['state']:\n",
    "        if G.node[e2]['state'] == 'human': game = 1 # human - human \n",
    "        else: game = 0; G.add_edge(e1,e2) #zombie herd grows, no other action\n",
    "    else: game = 2 # zombie to human encounter"
   ]
  },
  {
   "cell_type": "code",
   "execution_count": 16,
   "metadata": {
    "collapsed": false
   },
   "outputs": [],
   "source": [
    "def human_fight( k, l1, l2, crew1, crew2, e2, e1 ):\n",
    "    global G\n",
    "    dec = input(\"fight, flee or join?\")\n",
    "        \n",
    "    if dec == \"fight\":\n",
    "        print(\"round %d. you said fight, so we're fighting. its the %d of you against %d\"%(k, l1, l2))\n",
    "        for nd in crew1:\n",
    "            #your ppl can die\n",
    "            try: \n",
    "                G.node[nd][\"state\"]\n",
    "                if .5*hs - .5*zs + np.random.normal() < -0.7:\n",
    "                    print(\"round %d. your buddy human %d is dead\"%(k, nd))\n",
    "                    G.node[nd][\"state\"] = 'dead' # person nd is dead\n",
    "                else: G.add_edge(nd,e2) #whoever doesn't die, joins\n",
    "            except:print(\"skip\")\n",
    "\n",
    "        for nd in crew2:\n",
    "            # their people can die\n",
    "            try: \n",
    "                G.node[nd][\"state\"]\n",
    "                if  .5*hs - .5*zs + np.random.normal() > 0.7:\n",
    "                    print(\"round %d. that loser human %d is dead\"%(k, nd))\n",
    "                    G.node[nd][\"state\"] = 'dead' # person is dead\n",
    "                else: G.add_edge(nd,e1)\n",
    "            except: print(\"skip\")\n",
    "\n",
    "    elif dec == \"join\": \n",
    "        print(\"round %d. yea! further the human project!\"%(k))\n",
    "        if np.random.rand() > .8:\n",
    "            b = max(G.nodes())+1\n",
    "            G.add_node(b, state = 'human')\n",
    "            G.add_edge(b,e1)\n",
    "            G.add_edge(b,e2)\n",
    "            print(\"round %d. love wins, baby %d born\"%(k, b))\n",
    "            G.add_edge(e1,e2)\n",
    "        else:\n",
    "            G.add_edge(e1,e2)\n",
    "            \n",
    "    else: print(\"round %d. successful fleeing\"%(k))"
   ]
  },
  {
   "cell_type": "code",
   "execution_count": 17,
   "metadata": {
    "collapsed": false
   },
   "outputs": [],
   "source": [
    "def zombie_fight(k,l2,l1,crew1,crew2,e2,e1):\n",
    "    global G\n",
    "    if G.node[e1]['state'] == 'human': hs = l1; zs = l2; hcrew = crew1; zcrew = crew2\n",
    "    else: hs = l2; zs = l1; hcrew = crew1; zcrew = crew2\n",
    "    print(\"round %d. %d zombies attacking %d humans\"%(k, zs, hs))\n",
    "    # see what happens to the humans: roll a die for each person in human group\n",
    "    for nd in hcrew:\n",
    "        try: \n",
    "            G.node[nd][\"state\"]\n",
    "            if  -.4*hs + .1*zs + np.random.normal() > 0.7:\n",
    "                print(\"round %d. human %d infected\"%(k, nd))\n",
    "                G.node[nd]['state'] = 'zombie' # person is a zombie\n",
    "                G.remove_edges_from(G.edges(nd)) # person disconnected from all humans\n",
    "                G.add_edge(nd,zcrew.pop()) # person joins zombie herd\n",
    "            elif -.6*hs + .1*zs + np.random.rand() > 0.7:\n",
    "                print(\"round %d. human %d dead\"%(k, nd))\n",
    "                G.node[nd][\"state\"] = 'dead' # person is dead\n",
    "        except: print(\"skip\")\n",
    "            \n",
    "    # see what happens to the zombies\n",
    "    for nd in zcrew:\n",
    "        try: \n",
    "            G.node[nd][\"state\"]\n",
    "            if .5 - 0.1*zs + .1*hs + np.random.normal() > 1:\n",
    "                print(\"round %d. zombie %d killed\"%(k, nd))\n",
    "                G.node[nd][\"state\"] = 'dead' # zombie is dead\n",
    "        except: print(\"skip\")"
   ]
  },
  {
   "cell_type": "code",
   "execution_count": 18,
   "metadata": {
    "collapsed": false
   },
   "outputs": [],
   "source": [
    "def clean_up():\n",
    "    global G; global c\n",
    "    c = []\n",
    "    for i in G.nodes():\n",
    "        try: \n",
    "            if G.node[i]['state'] == 'dead': G.remove_node(i)\n",
    "            elif G.node[i]['state'] == 'human': c.append('blue')\n",
    "            elif G.node[i]['state'] == 'zombie':c.append('red')\n",
    "        except:\n",
    "            G.remove_node(i)"
   ]
  },
  {
   "cell_type": "code",
   "execution_count": 19,
   "metadata": {
    "collapsed": false
   },
   "outputs": [],
   "source": [
    "def get_fig(G,c):\n",
    "    # would lik to figure out how to animate this as you go\n",
    "    nx.draw(G, node_color = c, with_labels = True, node_size = 500)"
   ]
  },
  {
   "cell_type": "code",
   "execution_count": 21,
   "metadata": {
    "collapsed": false
   },
   "outputs": [],
   "source": [
    "def apocalypse( rounds, n, pr ):\n",
    "    start( n, pr )\n",
    "    global k\n",
    "    k = 1\n",
    "    while k <= rounds:\n",
    "        begin_round( n )\n",
    "        if game == 1: human_fight(   k, l1, l2, crew1, crew2, e2, e1 )\n",
    "        elif game == 2: zombie_fight( k,l2,l1,crew1,crew2,e2,e1 )\n",
    "        else: print(\"round %d. intra group friendships forming\"%(k))\n",
    "        clean_up()\n",
    "        k+=1\n",
    "    get_fig(G,c)"
   ]
  },
  {
   "cell_type": "code",
   "execution_count": 24,
   "metadata": {
    "collapsed": false
   },
   "outputs": [
    {
     "name": "stdout",
     "output_type": "stream",
     "text": [
      "round 1. intra group friendships forming\n",
      "round 2. intra group friendships forming\n",
      "round 3. 35 zombies attacking 6 humans\n",
      "round 3. human 2 dead\n",
      "round 3. human 4 infected\n",
      "round 3. human 6 infected\n",
      "round 3. human 8 infected\n",
      "round 3. human 9 infected\n",
      "round 3. human 13 infected\n",
      "round 3. human 14 dead\n",
      "round 3. human 16 infected\n",
      "round 3. human 17 infected\n",
      "skip\n",
      "round 3. human 18 infected\n",
      "skip\n",
      "round 3. human 20 infected\n",
      "skip\n",
      "round 3. human 22 infected\n",
      "skip\n",
      "round 3. human 25 dead\n",
      "round 3. human 27 infected\n",
      "skip\n",
      "round 3. human 28 infected\n",
      "skip\n",
      "round 3. human 29 dead\n",
      "round 3. human 30 dead\n",
      "round 3. human 33 infected\n",
      "skip\n",
      "round 3. human 35 infected\n",
      "skip\n",
      "round 3. human 36 infected\n",
      "skip\n",
      "round 3. human 37 infected\n",
      "skip\n",
      "round 3. human 39 infected\n",
      "skip\n",
      "round 3. human 42 infected\n",
      "skip\n",
      "round 3. human 43 infected\n",
      "skip\n",
      "round 3. human 44 infected\n",
      "skip\n",
      "round 3. human 46 infected\n",
      "skip\n",
      "round 3. human 49 infected\n",
      "skip\n",
      "round 3. human 50 infected\n",
      "skip\n",
      "round 4. 1 zombies attacking 12 humans\n",
      "round 4. zombie 1 killed\n",
      "round 4. zombie 6 killed\n",
      "round 4. zombie 8 killed\n",
      "round 4. zombie 10 killed\n",
      "round 4. zombie 47 killed\n",
      "round 4. zombie 16 killed\n",
      "round 4. zombie 26 killed\n",
      "round 5. 1 zombies attacking 1 humans\n",
      "round 6. intra group friendships forming\n",
      "round 7. 1 zombies attacking 4 humans\n",
      "round 8. intra group friendships forming\n",
      "round 9. intra group friendships forming\n",
      "fight, flee or join?join\n",
      "round 10. yea! further the human project!\n",
      "round 11. intra group friendships forming\n",
      "round 12. 5 zombies attacking 5 humans\n",
      "round 12. zombie 24 killed\n",
      "round 12. zombie 41 killed\n",
      "round 13. intra group friendships forming\n",
      "round 14. intra group friendships forming\n",
      "round 15. intra group friendships forming\n",
      "round 16. intra group friendships forming\n",
      "round 17. 1 zombies attacking 1 humans\n",
      "round 18. intra group friendships forming\n",
      "round 19. intra group friendships forming\n",
      "round 20. intra group friendships forming\n",
      "round 21. 2 zombies attacking 1 humans\n",
      "round 21. zombie 17 killed\n",
      "round 22. intra group friendships forming\n",
      "round 23. intra group friendships forming\n",
      "round 24. intra group friendships forming\n",
      "round 25. intra group friendships forming\n",
      "round 26. intra group friendships forming\n",
      "round 27. intra group friendships forming\n",
      "round 28. intra group friendships forming\n",
      "round 29. intra group friendships forming\n",
      "round 30. intra group friendships forming\n"
     ]
    },
    {
     "data": {
      "image/png": "[encoded data removed]",
      "text/plain": [
       "<matplotlib.figure.Figure at 0xa71f160>"
      ]
     },
     "metadata": {},
     "output_type": "display_data"
    }
   ],
   "source": [
    "apocalypse(30, 50, .8)"
   ]
  },
  {
   "cell_type": "code",
   "execution_count": null,
   "metadata": {
    "collapsed": true
   },
   "outputs": [],
   "source": [
    "#Can run step by step here:"
   ]
  },
  {
   "cell_type": "code",
   "execution_count": 15,
   "metadata": {
    "collapsed": false
   },
   "outputs": [
    {
     "name": "stdout",
     "output_type": "stream",
     "text": [
      "no error: nothing to clear\n"
     ]
    }
   ],
   "source": [
    "start(40,.7)"
   ]
  },
  {
   "cell_type": "code",
   "execution_count": 16,
   "metadata": {
    "collapsed": false
   },
   "outputs": [
    {
     "data": {
      "image/png": "[encoded data removed]",
      "text/plain": [
       "<matplotlib.figure.Figure at 0x8ce0fd0>"
      ]
     },
     "metadata": {},
     "output_type": "display_data"
    }
   ],
   "source": [
    "nx.draw(G, node_color = c, with_labels = True, node_size = 500)"
   ]
  },
  {
   "cell_type": "code",
   "execution_count": 70,
   "metadata": {
    "collapsed": false
   },
   "outputs": [
    {
     "data": {
      "text/plain": [
       "0"
      ]
     },
     "execution_count": 70,
     "metadata": {},
     "output_type": "execute_result"
    }
   ],
   "source": [
    "begin_round(1)\n",
    "k = 1\n",
    "game"
   ]
  },
  {
   "cell_type": "code",
   "execution_count": 64,
   "metadata": {
    "collapsed": false
   },
   "outputs": [
    {
     "data": {
      "text/plain": [
       "36"
      ]
     },
     "execution_count": 64,
     "metadata": {},
     "output_type": "execute_result"
    }
   ],
   "source": [
    "l2"
   ]
  },
  {
   "cell_type": "code",
   "execution_count": 50,
   "metadata": {
    "collapsed": false
   },
   "outputs": [
    {
     "name": "stdout",
     "output_type": "stream",
     "text": [
      "round 1. 32 zombies attacking 6 humans\n",
      "round 1. human 32 infected\n",
      "round 1. human 6 infected\n",
      "round 1. human 38 infected\n",
      "round 1. human 18 infected\n"
     ]
    }
   ],
   "source": [
    "#if game is 2, do a zombie fight\n",
    "zombie_fight(k,l2,l1,crew1,crew2,e2,e1)"
   ]
  },
  {
   "cell_type": "code",
   "execution_count": 222,
   "metadata": {
    "collapsed": false
   },
   "outputs": [
    {
     "name": "stdout",
     "output_type": "stream",
     "text": [
      "fight, flee or join?fight\n",
      "round 5. you said fight, so we're fighting. its the 13 of you against 2\n",
      "round 5. that loser human 11 is dead\n",
      "round 5. that loser human 36 is dead\n"
     ]
    }
   ],
   "source": [
    "#if game is 1, do a human fight\n",
    "human_fight(  k, hs, zs, crew1, crew2, e2, me )"
   ]
  },
  {
   "cell_type": "code",
   "execution_count": 51,
   "metadata": {
    "collapsed": true
   },
   "outputs": [],
   "source": [
    "clean_up()"
   ]
  },
  {
   "cell_type": "code",
   "execution_count": 52,
   "metadata": {
    "collapsed": false
   },
   "outputs": [
    {
     "data": {
      "image/png": "[encoded data removed]",
      "text/plain": [
       "<matplotlib.figure.Figure at 0x8fb8c50>"
      ]
     },
     "metadata": {},
     "output_type": "display_data"
    }
   ],
   "source": [
    "nx.draw(G, node_color = c, with_labels = True, node_size = 500)"
   ]
  },
  {
   "cell_type": "code",
   "execution_count": 38,
   "metadata": {
    "collapsed": false
   },
   "outputs": [
    {
     "data": {
      "text/plain": [
       "[(1, 1),\n",
       " (1, 2),\n",
       " (1, 11),\n",
       " (1, 5),\n",
       " (1, 33),\n",
       " (2, 39),\n",
       " (3, 15),\n",
       " (3, 9),\n",
       " (3, 3),\n",
       " (3, 30),\n",
       " (3, 7),\n",
       " (4, 4),\n",
       " (5, 10),\n",
       " (5, 22),\n",
       " (5, 31),\n",
       " (6, 8),\n",
       " (6, 6),\n",
       " (7, 27),\n",
       " (7, 13),\n",
       " (7, 23),\n",
       " (8, 16),\n",
       " (8, 38),\n",
       " (9, 28),\n",
       " (10, 17),\n",
       " (10, 26),\n",
       " (11, 34),\n",
       " (11, 20),\n",
       " (11, 14),\n",
       " (12, 12),\n",
       " (13, 35),\n",
       " (13, 29),\n",
       " (14, 37),\n",
       " (16, 18),\n",
       " (17, 17),\n",
       " (17, 19),\n",
       " (18, 32),\n",
       " (20, 21),\n",
       " (22, 24),\n",
       " (23, 25),\n",
       " (24, 33),\n",
       " (27, 40),\n",
       " (27, 39),\n",
       " (29, 36)]"
      ]
     },
     "execution_count": 38,
     "metadata": {},
     "output_type": "execute_result"
    }
   ],
   "source": [
    "G.edges()"
   ]
  },
  {
   "cell_type": "code",
   "execution_count": null,
   "metadata": {
    "collapsed": true
   },
   "outputs": [],
   "source": []
  }
 ],
 "metadata": {
  "kernelspec": {
   "display_name": "Python 3",
   "language": "python",
   "name": "python3"
  },
  "language_info": {
   "codemirror_mode": {
    "name": "ipython",
    "version": 3
   },
   "file_extension": ".py",
   "mimetype": "text/x-python",
   "name": "python",
   "nbconvert_exporter": "python",
   "pygments_lexer": "ipython3",
   "version": "3.5.1"
  }
 },
 "nbformat": 4,
 "nbformat_minor": 0
}
