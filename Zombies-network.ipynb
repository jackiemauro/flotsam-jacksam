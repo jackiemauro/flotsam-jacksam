{
 "cells": [
  {
   "cell_type": "code",
   "execution_count": null,
   "metadata": {
    "collapsed": true
   },
   "outputs": [],
   "source": [
    "# working to do the zombies networks model"
   ]
  },
  {
   "cell_type": "code",
   "execution_count": 1,
   "metadata": {
    "collapsed": false
   },
   "outputs": [
    {
     "name": "stdout",
     "output_type": "stream",
     "text": [
      "Couldn't import dot_parser, loading of dot files will not be possible.\n"
     ]
    }
   ],
   "source": [
    "%matplotlib inline\n",
    "\n",
    "import numpy as np\n",
    "import random as rd\n",
    "import pandas as pd\n",
    "import matplotlib.pyplot as plt\n",
    "from matplotlib.pyplot import pause\n",
    "import networkx as nx\n",
    "import matplotlib as mt\n",
    "import graphviz\n",
    "from networkx import graphviz_layout\n",
    "import pydot\n",
    "import pylab"
   ]
  },
  {
   "cell_type": "code",
   "execution_count": 163,
   "metadata": {
    "collapsed": false
   },
   "outputs": [],
   "source": [
    "# in case you want to name your people\n",
    "#http = urllib3.PoolManager()\n",
    "#names = http.request('GET', 'http://deron.meranda.us/data/census-derived-all-first.txt')\n",
    "\n",
    "# want to start assigning ppl value so fighting may actually be worth it\n",
    "# ie, if you fight, you can split the value of the ppl you kill\n",
    "# if you join, they keep their shit\n",
    "\n",
    "# should make babies not useful -- needs to take some number of rounds for them to grow up\n",
    "\n",
    "# should make human/zombie strength an input\n",
    "\n",
    "# want to animate the graph so you can see what happens at each step\n",
    "\n",
    "# for some reason the crews are not actually disjoint"
   ]
  },
  {
   "cell_type": "code",
   "execution_count": 164,
   "metadata": {
    "collapsed": false
   },
   "outputs": [],
   "source": [
    "def start( n, pr ):\n",
    "    # clears graph and starts a new one\n",
    "    # n people, with pr probability of getting infected at stage 1\n",
    "    # needs error handling for probability between 0 and 1, though this will get caught by python\n",
    "    # this should be more flexible, so that you can make initial graphs that are larger or smaller\n",
    "    # eventually each human node should have more qualities too: a name, resources, skills, smarts, age\n",
    "    \n",
    "    global G; global c; global zom; global hum\n",
    "    \n",
    "    hum = []; zom = []; c = []\n",
    "    \n",
    "    try:G.clear()\n",
    "    except: pass\n",
    "\n",
    "    # generate your starting graph\n",
    "    G=nx.Graph()\n",
    "    \n",
    "    k = 1\n",
    "    while k <= n:\n",
    "        #randomly make a node human or zombie\n",
    "        G.add_node(k, state = np.random.choice(['zombie','human'], p=[pr,1-pr])) \n",
    "\n",
    "        # if it's human, collect it, color it blue and connect it to humans\n",
    "        if G.node[k]['state']=='human':\n",
    "            hum.append(k)\n",
    "            c.append('blue')\n",
    "            G.add_edge(k, np.random.choice(hum))\n",
    "\n",
    "        # if it's a zombie, collect it, color it red and connect it to zombies    \n",
    "        else:\n",
    "            zom.append(k)\n",
    "            c.append('red')\n",
    "            G.add_edge(k, np.random.choice(zom))\n",
    "        k +=1"
   ]
  },
  {
   "cell_type": "code",
   "execution_count": 165,
   "metadata": {
    "collapsed": true
   },
   "outputs": [],
   "source": [
    "def begin_round( n ):\n",
    "    # eventual changes: choose your two actors non-uniformly\n",
    "    # ie, have a higher chance of linking a human to a small or large herd (depending on your philosophy)\n",
    "    \n",
    "    global game; global e1; global e2; global crew2; global l2; global crew1; global l1; global G\n",
    "    \n",
    "    e1 = np.random.choice(G.nodes())\n",
    "    e2 = np.random.choice(G.nodes())\n",
    "    \n",
    "    for i in list(nx.connected_components(G)):\n",
    "        if e1 in i: crew1 = i; l1 = len(i)\n",
    "    for i in list(nx.connected_components(G)):\n",
    "        if e2 in i: crew2 = i; l2 = len(i)\n",
    "    if G.node[e2]['state'] == G.node[e1]['state']:\n",
    "        if G.node[e2]['state'] == 'human': game = 1 # human - human \n",
    "        else: game = 0; G.add_edge(e1,e2) #zombie herd grows, no other action\n",
    "    else: game = 2 # zombie to human encounter"
   ]
  },
  {
   "cell_type": "code",
   "execution_count": 166,
   "metadata": {
    "collapsed": false
   },
   "outputs": [],
   "source": [
    "def human_fight( k, l1, l2, crew1, crew2, e2, e1, prBaby, HH ):\n",
    "    # should have probabilities as inputs:\n",
    "    \n",
    "    global G\n",
    "    if crew1 == crew2:\n",
    "        G.add_edge(e1,e2)\n",
    "        if np.random.rand() > prBaby:\n",
    "            b = max(G.nodes())+1\n",
    "            G.add_node(b, state = 'human')\n",
    "            G.add_edge(b,e1)\n",
    "            G.add_edge(b,e2)\n",
    "            print(\"round %d. love wins, baby %d born\"%(k, b))\n",
    "    \n",
    "    else:\n",
    "        dec = input(\"fight, flee or join?\")\n",
    "\n",
    "        if dec == \"fight\":\n",
    "            print(\"round %d. you said fight, so we're fighting. its the %d of you against %d\"%(k, l1, l2))\n",
    "            for nd in crew1:\n",
    "                #your ppl can die\n",
    "                try: \n",
    "                    G.node[nd][\"state\"]\n",
    "                    if HH*l1 - HH*l2 + np.random.normal() < 0:\n",
    "                        print(\"round %d. your buddy human %d is dead\"%(k, nd))\n",
    "                        G.node[nd][\"state\"] = 'dead' # person nd is dead\n",
    "                    else: G.add_edge(nd,e2) #whoever doesn't die, joins\n",
    "                except: pass\n",
    "\n",
    "            for nd in crew2:\n",
    "                # their people can die\n",
    "                try: \n",
    "                    G.node[nd][\"state\"]\n",
    "                    if  HH*l1 - HH*l2 + np.random.normal() > 0:\n",
    "                        print(\"round %d. that loser human %d is dead\"%(k, nd))\n",
    "                        G.node[nd][\"state\"] = 'dead' # person is dead\n",
    "                    else: G.add_edge(nd,e1)\n",
    "                except: pass\n",
    "\n",
    "        elif dec == \"join\": \n",
    "            print(\"round %d. yea! further the human project!\"%(k))\n",
    "            G.add_edge(e1,e2)\n",
    "            if np.random.rand() > prBaby:\n",
    "                b = max(G.nodes())+1\n",
    "                G.add_node(b, state = 'human')\n",
    "                G.add_edge(b,e1)\n",
    "                G.add_edge(b,e2)\n",
    "                print(\"round %d. love wins, baby %d born\"%(k, b))\n",
    "\n",
    "        else: print(\"round %d. successful fleeing\"%(k))"
   ]
  },
  {
   "cell_type": "code",
   "execution_count": 167,
   "metadata": {
    "collapsed": false
   },
   "outputs": [],
   "source": [
    "def zombie_fight(k,l2,l1,crew1,crew2,e2,e1, HZ, ZD, HZdefInf, HZdefKill, ZHInf, ZHKill):\n",
    "    global G\n",
    "    if G.node[e1]['state'] == 'human': hs = l1; zs = l2; hcrew = crew1; zcrew = crew2\n",
    "    else: hs = l2; zs = l1; hcrew = crew2; zcrew = crew1\n",
    "    print(\"round %d. %d zombies attacking %d humans\"%(k, zs, hs))\n",
    "    \n",
    "    # see what happens to the humans: roll a die for each person in human group\n",
    "    for nd in hcrew:\n",
    "        try: \n",
    "            G.node[nd][\"state\"]\n",
    "            if  -HZdefInf*hs + ZHInf*zs + np.random.normal() > 0:\n",
    "                print(\"round %d. human %d infected\"%(k, nd))\n",
    "                G.node[nd]['state'] = 'zombie' # person is a zombie\n",
    "                G.remove_edges_from(G.edges(nd)) # person disconnected from all humans\n",
    "                G.add_edge(nd,zcrew.pop()) # person joins zombie herd\n",
    "            elif -HZdefKill*hs + ZHKill*zs + np.random.rand() > 0:\n",
    "                print(\"round %d. human %d dead\"%(k, nd))\n",
    "                G.node[nd][\"state\"] = 'dead' # person is dead\n",
    "        except: pass\n",
    "            \n",
    "    # see what happens to the zombies\n",
    "    for nd in zcrew:\n",
    "        try: \n",
    "            G.node[nd][\"state\"]\n",
    "            if -ZD*zs + HZ*hs + np.random.normal() > 0:\n",
    "                print(\"round %d. zombie %d killed\"%(k, nd))\n",
    "                G.node[nd][\"state\"] = 'dead' # zombie is dead\n",
    "        except: pass"
   ]
  },
  {
   "cell_type": "code",
   "execution_count": 168,
   "metadata": {
    "collapsed": false
   },
   "outputs": [],
   "source": [
    "def clean_up():\n",
    "    global G; global c\n",
    "    c = []\n",
    "    for i in G.nodes():\n",
    "        try: \n",
    "            if G.node[i]['state'] == 'dead': G.remove_node(i)\n",
    "            elif G.node[i]['state'] == 'human': c.append('blue')\n",
    "            elif G.node[i]['state'] == 'zombie':c.append('red')\n",
    "        except:\n",
    "            G.remove_node(i)"
   ]
  },
  {
   "cell_type": "code",
   "execution_count": 169,
   "metadata": {
    "collapsed": false
   },
   "outputs": [],
   "source": [
    "def get_fig(G,c):\n",
    "    # would like to figure out how to animate this as you go\n",
    "    nx.draw(G, node_color = c, with_labels = True, node_size = 500)"
   ]
  },
  {
   "cell_type": "code",
   "execution_count": 216,
   "metadata": {
    "collapsed": false
   },
   "outputs": [],
   "source": [
    "def apocalypse( rounds, n, pr, prBaby = .8, HH = .5, HZ = .5, ZD = 0.1, HZdefInf = .6, HZdefKill = .5, ZHInf = .1, ZHKill = .05 ):\n",
    "    \n",
    "    # pr is initial infection probability\n",
    "    # prBaby is the threshold for having a baby\n",
    "    # HH is how deadly humans are to each other\n",
    "    # HZ is how deadly humans are to zombies\n",
    "    # ZD is how good zombies are at defending each other\n",
    "    # HZdefInf is how good humans are at defending each other from infection\n",
    "    # HZdefKill is how good humans are at defending each other from being killed\n",
    "    # ZHInf is how good zombies are at infecting humans\n",
    "    # ZHKill is how good zombies are at killing humans\n",
    "    \n",
    "    start( n, pr )\n",
    "    global k\n",
    "    k = 1\n",
    "    while k <= rounds and sum(1 for i in c if i == 'blue') > 0  and sum(1 for i in c if i == 'red') > 0:\n",
    "        begin_round( n )\n",
    "        if game == 1: human_fight(   k, l1, l2, crew1, crew2, e2, e1, prBaby, HH )\n",
    "        elif game == 2: zombie_fight( k,l2,l1,crew1,crew2,e2,e1, HZ, ZD, HZdefInf, HZdefKill, ZHInf, ZHKill )\n",
    "        else: pass\n",
    "        clean_up()\n",
    "        k+=1\n",
    "    get_fig(G,c)"
   ]
  },
  {
   "cell_type": "code",
   "execution_count": 224,
   "metadata": {
    "collapsed": false,
    "scrolled": true
   },
   "outputs": [
    {
     "name": "stdout",
     "output_type": "stream",
     "text": [
      "round 1. 40 zombies attacking 9 humans\n",
      "round 1. zombie 3 killed\n",
      "round 1. zombie 5 killed\n",
      "round 1. zombie 8 killed\n",
      "round 1. zombie 11 killed\n",
      "round 1. zombie 12 killed\n",
      "round 1. zombie 13 killed\n",
      "round 1. zombie 14 killed\n",
      "round 1. zombie 15 killed\n",
      "round 1. zombie 19 killed\n",
      "round 1. zombie 20 killed\n",
      "round 1. zombie 22 killed\n",
      "round 1. zombie 23 killed\n",
      "round 1. zombie 25 killed\n",
      "round 1. zombie 28 killed\n",
      "round 1. zombie 29 killed\n",
      "round 1. zombie 31 killed\n",
      "round 1. zombie 32 killed\n",
      "round 1. zombie 36 killed\n",
      "round 1. zombie 37 killed\n",
      "round 1. zombie 38 killed\n",
      "round 1. zombie 39 killed\n",
      "round 1. zombie 41 killed\n",
      "round 1. zombie 43 killed\n",
      "round 1. zombie 44 killed\n",
      "round 1. zombie 46 killed\n",
      "round 1. zombie 48 killed\n",
      "round 1. zombie 49 killed\n",
      "round 1. zombie 50 killed\n",
      "round 2. 8 zombies attacking 9 humans\n",
      "round 2. zombie 1 killed\n",
      "round 2. zombie 2 killed\n",
      "round 2. zombie 4 killed\n",
      "round 2. zombie 6 killed\n",
      "round 2. zombie 9 killed\n",
      "round 2. zombie 45 killed\n",
      "round 2. zombie 18 killed\n",
      "round 2. zombie 27 killed\n",
      "round 3. 1 zombies attacking 9 humans\n",
      "round 3. zombie 34 killed\n",
      "round 6. 1 zombies attacking 9 humans\n",
      "round 6. zombie 47 killed\n",
      "fight, flee or join?join\n",
      "round 7. yea! further the human project!\n",
      "round 11. 2 zombies attacking 10 humans\n",
      "round 11. zombie 40 killed\n",
      "round 11. zombie 21 killed\n"
     ]
    },
    {
     "data": {
      "image/png": "[encoded data removed]",
      "text/plain": [
       "<matplotlib.figure.Figure at 0x8a649e8>"
      ]
     },
     "metadata": {},
     "output_type": "display_data"
    }
   ],
   "source": [
    "apocalypse( 40, 50, .8)"
   ]
  },
  {
   "cell_type": "code",
   "execution_count": null,
   "metadata": {
    "collapsed": true
   },
   "outputs": [],
   "source": [
    "#Can run step by step here:"
   ]
  },
  {
   "cell_type": "code",
   "execution_count": 214,
   "metadata": {
    "collapsed": false
   },
   "outputs": [
    {
     "data": {
      "text/plain": [
       "16"
      ]
     },
     "execution_count": 214,
     "metadata": {},
     "output_type": "execute_result"
    }
   ],
   "source": [
    "sum(1 for i in c if i == 'blue')"
   ]
  },
  {
   "cell_type": "code",
   "execution_count": 218,
   "metadata": {
    "collapsed": false
   },
   "outputs": [
    {
     "data": {
      "text/plain": [
       "['blue', 'blue', 'blue', 'blue', 'blue', 'blue', 'blue', 'blue']"
      ]
     },
     "execution_count": 218,
     "metadata": {},
     "output_type": "execute_result"
    }
   ],
   "source": [
    "c"
   ]
  },
  {
   "cell_type": "code",
   "execution_count": 210,
   "metadata": {
    "collapsed": false
   },
   "outputs": [],
   "source": [
    "start(40,.7)"
   ]
  },
  {
   "cell_type": "code",
   "execution_count": 109,
   "metadata": {
    "collapsed": false
   },
   "outputs": [
    {
     "data": {
      "image/png": "[encoded data removed]",
      "text/plain": [
       "<matplotlib.figure.Figure at 0xa71ba90>"
      ]
     },
     "metadata": {},
     "output_type": "display_data"
    }
   ],
   "source": [
    "nx.draw(G, node_color = c, with_labels = True, node_size = 500)"
   ]
  },
  {
   "cell_type": "code",
   "execution_count": 146,
   "metadata": {
    "collapsed": false
   },
   "outputs": [
    {
     "data": {
      "text/plain": [
       "2"
      ]
     },
     "execution_count": 146,
     "metadata": {},
     "output_type": "execute_result"
    }
   ],
   "source": [
    "begin_round(1)\n",
    "k = 1\n",
    "game"
   ]
  },
  {
   "cell_type": "code",
   "execution_count": 132,
   "metadata": {
    "collapsed": false
   },
   "outputs": [
    {
     "data": {
      "text/plain": [
       "{5, 16}"
      ]
     },
     "execution_count": 132,
     "metadata": {},
     "output_type": "execute_result"
    }
   ],
   "source": [
    "crew1"
   ]
  },
  {
   "cell_type": "code",
   "execution_count": 147,
   "metadata": {
    "collapsed": false
   },
   "outputs": [
    {
     "name": "stdout",
     "output_type": "stream",
     "text": [
      "round 1. 31 zombies attacking 1 humans\n",
      "round 1. human 33 infected\n"
     ]
    }
   ],
   "source": [
    "#if game is 2, do a zombie fight\n",
    "zombie_fight(k,l2,l1,crew1,crew2,e2,e1)"
   ]
  },
  {
   "cell_type": "code",
   "execution_count": 81,
   "metadata": {
    "collapsed": false
   },
   "outputs": [],
   "source": [
    "#if game is 1, do a human fight\n",
    "human_fight(  k, l1, l2, crew1, crew2, e2, e1 )"
   ]
  },
  {
   "cell_type": "code",
   "execution_count": 144,
   "metadata": {
    "collapsed": true
   },
   "outputs": [],
   "source": [
    "clean_up()"
   ]
  },
  {
   "cell_type": "code",
   "execution_count": 145,
   "metadata": {
    "collapsed": false
   },
   "outputs": [
    {
     "data": {
      "image/png": "[encoded data removed]",
      "text/plain": [
       "<matplotlib.figure.Figure at 0xa995a90>"
      ]
     },
     "metadata": {},
     "output_type": "display_data"
    }
   ],
   "source": [
    "nx.draw(G, node_color = c, with_labels = True, node_size = 500)"
   ]
  },
  {
   "cell_type": "code",
   "execution_count": 38,
   "metadata": {
    "collapsed": false
   },
   "outputs": [
    {
     "data": {
      "text/plain": [
       "[(1, 1),\n",
       " (1, 2),\n",
       " (1, 11),\n",
       " (1, 5),\n",
       " (1, 33),\n",
       " (2, 39),\n",
       " (3, 15),\n",
       " (3, 9),\n",
       " (3, 3),\n",
       " (3, 30),\n",
       " (3, 7),\n",
       " (4, 4),\n",
       " (5, 10),\n",
       " (5, 22),\n",
       " (5, 31),\n",
       " (6, 8),\n",
       " (6, 6),\n",
       " (7, 27),\n",
       " (7, 13),\n",
       " (7, 23),\n",
       " (8, 16),\n",
       " (8, 38),\n",
       " (9, 28),\n",
       " (10, 17),\n",
       " (10, 26),\n",
       " (11, 34),\n",
       " (11, 20),\n",
       " (11, 14),\n",
       " (12, 12),\n",
       " (13, 35),\n",
       " (13, 29),\n",
       " (14, 37),\n",
       " (16, 18),\n",
       " (17, 17),\n",
       " (17, 19),\n",
       " (18, 32),\n",
       " (20, 21),\n",
       " (22, 24),\n",
       " (23, 25),\n",
       " (24, 33),\n",
       " (27, 40),\n",
       " (27, 39),\n",
       " (29, 36)]"
      ]
     },
     "execution_count": 38,
     "metadata": {},
     "output_type": "execute_result"
    }
   ],
   "source": [
    "G.edges()"
   ]
  },
  {
   "cell_type": "code",
   "execution_count": null,
   "metadata": {
    "collapsed": true
   },
   "outputs": [],
   "source": []
  }
 ],
 "metadata": {
  "kernelspec": {
   "display_name": "Python 3",
   "language": "python",
   "name": "python3"
  },
  "language_info": {
   "codemirror_mode": {
    "name": "ipython",
    "version": 3
   },
   "file_extension": ".py",
   "mimetype": "text/x-python",
   "name": "python",
   "nbconvert_exporter": "python",
   "pygments_lexer": "ipython3",
   "version": "3.5.1"
  }
 },
 "nbformat": 4,
 "nbformat_minor": 0
}
