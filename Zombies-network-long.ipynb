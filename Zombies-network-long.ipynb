{
 "cells": [
  {
   "cell_type": "code",
   "execution_count": null,
   "metadata": {
    "collapsed": true
   },
   "outputs": [],
   "source": [
    "# working to do the zombies networks model"
   ]
  },
  {
   "cell_type": "code",
   "execution_count": 1,
   "metadata": {
    "collapsed": false
   },
   "outputs": [
    {
     "name": "stdout",
     "output_type": "stream",
     "text": [
      "Couldn't import dot_parser, loading of dot files will not be possible.\n"
     ]
    }
   ],
   "source": [
    "%matplotlib inline\n",
    "\n",
    "import numpy as np\n",
    "import random as rd\n",
    "import pandas as pd\n",
    "import matplotlib.pyplot as plt\n",
    "from matplotlib.pyplot import pause\n",
    "import networkx as nx\n",
    "import matplotlib as mt\n",
    "import graphviz\n",
    "from networkx import graphviz_layout\n",
    "import pydot\n",
    "import pylab"
   ]
  },
  {
   "cell_type": "code",
   "execution_count": 2,
   "metadata": {
    "collapsed": false
   },
   "outputs": [],
   "source": [
    "# in case you want to name your people\n",
    "#http = urllib3.PoolManager()\n",
    "#names = http.request('GET', 'http://deron.meranda.us/data/census-derived-all-first.txt')\n",
    "\n",
    "# want to start assigning ppl value so fighting may actually be worth it\n",
    "# ie, if you fight, you can split the value of the ppl you kill\n",
    "# if you join, they keep their shit\n",
    "\n",
    "# should make babies not useful -- needs to take some number of rounds for them to grow up\n",
    "\n",
    "# should make human/zombie strength an input\n",
    "\n",
    "# want to animate the graph so you can see what happens at each step\n",
    "\n",
    "# for some reason the crews are not actually disjoint"
   ]
  },
  {
   "cell_type": "code",
   "execution_count": 27,
   "metadata": {
    "collapsed": false
   },
   "outputs": [],
   "source": [
    "def start( n, pr ):\n",
    "    # clears graph and starts a new one\n",
    "    # n people, with pr probability of getting infected at stage 1\n",
    "    # needs error handling for probability between 0 and 1, though this will get caught by python\n",
    "    \n",
    "    global G; global c; global zom; global hum\n",
    "    \n",
    "    hum = []; zom = []; c = []\n",
    "    \n",
    "    try:G.clear()\n",
    "    except: print(\"no error: nothing to clear\")\n",
    "\n",
    "    # generate your starting graph\n",
    "    G=nx.Graph()\n",
    "    \n",
    "    k = 1\n",
    "    while k <= n:\n",
    "        #randomly make a node human or zombie\n",
    "        G.add_node(k, state = np.random.choice(['zombie','human'], p=[pr,1-pr])) \n",
    "\n",
    "        # if it's human, collect it, color it blue and connect it to humans\n",
    "        if G.node[k]['state']=='human':\n",
    "            hum.append(k)\n",
    "            c.append('blue')\n",
    "            G.add_edge(k, np.random.choice(hum))\n",
    "\n",
    "        # if it's a zombie, collect it, color it red and connect it to zombies    \n",
    "        else:\n",
    "            zom.append(k)\n",
    "            c.append('red')\n",
    "            G.add_edge(k, np.random.choice(zom))\n",
    "        k +=1"
   ]
  },
  {
   "cell_type": "code",
   "execution_count": 28,
   "metadata": {
    "collapsed": true
   },
   "outputs": [],
   "source": [
    "def begin_round( n ):\n",
    "    global game; global e1; global e2; global crew2; global l2; global crew1; global l1; global G\n",
    "    e1 = np.random.choice(G.nodes())\n",
    "    e2 = np.random.choice(G.nodes())\n",
    "    for i in list(nx.connected_components(G)):\n",
    "        if e1 in i: crew1 = i; l1 = len(i)\n",
    "    for i in list(nx.connected_components(G)):\n",
    "        if e2 in i: crew2 = i; l2 = len(i)\n",
    "    if G.node[e2]['state'] == G.node[e1]['state']:\n",
    "        if G.node[e2]['state'] == 'human': game = 1 # human - human \n",
    "        else: game = 0; G.add_edge(e1,e2) #zombie herd grows, no other action\n",
    "    else: game = 2 # zombie to human encounter"
   ]
  },
  {
   "cell_type": "code",
   "execution_count": 80,
   "metadata": {
    "collapsed": false
   },
   "outputs": [],
   "source": [
    "def human_fight( k, l1, l2, crew1, crew2, e2, e1 ):\n",
    "    global G\n",
    "    if crew1 == crew2:\n",
    "        if np.random.rand() > .8:\n",
    "            b = max(G.nodes())+1\n",
    "            G.add_node(b, state = 'human')\n",
    "            G.add_edge(b,e1)\n",
    "            G.add_edge(b,e2)\n",
    "            print(\"round %d. love wins, baby %d born\"%(k, b))\n",
    "            G.add_edge(e1,e2)\n",
    "        else:\n",
    "            G.add_edge(e1,e2)\n",
    "    else:\n",
    "        dec = input(\"fight, flee or join?\")\n",
    "\n",
    "        if dec == \"fight\":\n",
    "            print(\"round %d. you said fight, so we're fighting. its the %d of you against %d\"%(k, l1, l2))\n",
    "            for nd in crew1:\n",
    "                #your ppl can die\n",
    "                try: \n",
    "                    G.node[nd][\"state\"]\n",
    "                    if .5*l1 - .5*l2 + np.random.normal() < -0.7:\n",
    "                        print(\"round %d. your buddy human %d is dead\"%(k, nd))\n",
    "                        G.node[nd][\"state\"] = 'dead' # person nd is dead\n",
    "                    else: G.add_edge(nd,e2) #whoever doesn't die, joins\n",
    "                except: pass\n",
    "\n",
    "            for nd in crew2:\n",
    "                # their people can die\n",
    "                try: \n",
    "                    G.node[nd][\"state\"]\n",
    "                    if  .5*l1 - .5*l2 + np.random.normal() > 0.7:\n",
    "                        print(\"round %d. that loser human %d is dead\"%(k, nd))\n",
    "                        G.node[nd][\"state\"] = 'dead' # person is dead\n",
    "                    else: G.add_edge(nd,e1)\n",
    "                except: pass\n",
    "\n",
    "        elif dec == \"join\": \n",
    "            print(\"round %d. yea! further the human project!\"%(k))\n",
    "            if np.random.rand() > .8:\n",
    "                b = max(G.nodes())+1\n",
    "                G.add_node(b, state = 'human')\n",
    "                G.add_edge(b,e1)\n",
    "                G.add_edge(b,e2)\n",
    "                print(\"round %d. love wins, baby %d born\"%(k, b))\n",
    "                G.add_edge(e1,e2)\n",
    "            else:\n",
    "                G.add_edge(e1,e2)\n",
    "\n",
    "        else: print(\"round %d. successful fleeing\"%(k))"
   ]
  },
  {
   "cell_type": "code",
   "execution_count": 98,
   "metadata": {
    "collapsed": false
   },
   "outputs": [],
   "source": [
    "def zombie_fight(k,l2,l1,crew1,crew2,e2,e1):\n",
    "    global G\n",
    "    if G.node[e1]['state'] == 'human': hs = l1; zs = l2; hcrew = crew1; zcrew = crew2\n",
    "    else: hs = l2; zs = l1; hcrew = crew2; zcrew = crew1\n",
    "    print(\"round %d. %d zombies attacking %d humans\"%(k, zs, hs))\n",
    "    # see what happens to the humans: roll a die for each person in human group\n",
    "    for nd in hcrew:\n",
    "        try: \n",
    "            G.node[nd][\"state\"]\n",
    "            if  -.4*hs + .1*zs + np.random.normal() > 0.7:\n",
    "                print(\"round %d. human %d infected\"%(k, nd))\n",
    "                G.node[nd]['state'] = 'zombie' # person is a zombie\n",
    "                G.remove_edges_from(G.edges(nd)) # person disconnected from all humans\n",
    "                G.add_edge(nd,zcrew.pop()) # person joins zombie herd\n",
    "            elif -.6*hs + .1*zs + np.random.rand() > 0.7:\n",
    "                print(\"round %d. human %d dead\"%(k, nd))\n",
    "                G.node[nd][\"state\"] = 'dead' # person is dead\n",
    "        except: pass\n",
    "            \n",
    "    # see what happens to the zombies\n",
    "    for nd in zcrew:\n",
    "        try: \n",
    "            G.node[nd][\"state\"]\n",
    "            if .5 - 0.1*zs + .1*hs + np.random.normal() > 1:\n",
    "                print(\"round %d. zombie %d killed\"%(k, nd))\n",
    "                G.node[nd][\"state\"] = 'dead' # zombie is dead\n",
    "        except: pass"
   ]
  },
  {
   "cell_type": "code",
   "execution_count": 31,
   "metadata": {
    "collapsed": false
   },
   "outputs": [],
   "source": [
    "def clean_up():\n",
    "    global G; global c\n",
    "    c = []\n",
    "    for i in G.nodes():\n",
    "        try: \n",
    "            if G.node[i]['state'] == 'dead': G.remove_node(i)\n",
    "            elif G.node[i]['state'] == 'human': c.append('blue')\n",
    "            elif G.node[i]['state'] == 'zombie':c.append('red')\n",
    "        except:\n",
    "            G.remove_node(i)"
   ]
  },
  {
   "cell_type": "code",
   "execution_count": 32,
   "metadata": {
    "collapsed": false
   },
   "outputs": [],
   "source": [
    "def get_fig(G,c):\n",
    "    # would lik to figure out how to animate this as you go\n",
    "    nx.draw(G, node_color = c, with_labels = True, node_size = 500)"
   ]
  },
  {
   "cell_type": "code",
   "execution_count": 33,
   "metadata": {
    "collapsed": false
   },
   "outputs": [],
   "source": [
    "def apocalypse( rounds, n, pr ):\n",
    "    start( n, pr )\n",
    "    global k\n",
    "    k = 1\n",
    "    while k <= rounds:\n",
    "        begin_round( n )\n",
    "        if game == 1: human_fight(   k, l1, l2, crew1, crew2, e2, e1 )\n",
    "        elif game == 2: zombie_fight( k,l2,l1,crew1,crew2,e2,e1 )\n",
    "        else: pass,
    "        clean_up()\n",
    "        k+=1\n",
    "    get_fig(G,c)"
   ]
  },
  {
   "cell_type": "code",
   "execution_count": 148,
   "metadata": {
    "collapsed": false
   },
   "outputs": [
    {
     "name": "stdout",
     "output_type": "stream",
     "text": [
      "round 1. intra group friendships forming\n",
      "round 2. intra group friendships forming\n",
      "round 3. 18 zombies attacking 2 humans\n",
      "round 3. human 10 infected\n",
      "round 3. zombie 3 killed\n",
      "round 3. zombie 11 killed\n",
      "round 4. intra group friendships forming\n",
      "round 5. intra group friendships forming\n",
      "round 6. intra group friendships forming\n",
      "round 7. intra group friendships forming\n",
      "round 8. intra group friendships forming\n",
      "round 9. intra group friendships forming\n",
      "round 10. intra group friendships forming\n",
      "round 11. intra group friendships forming\n",
      "round 12. intra group friendships forming\n",
      "round 13. intra group friendships forming\n",
      "round 14. intra group friendships forming\n",
      "round 15. intra group friendships forming\n",
      "round 16. 16 zombies attacking 1 humans\n",
      "round 16. human 16 infected\n",
      "round 17. intra group friendships forming\n",
      "round 18. intra group friendships forming\n",
      "round 19. intra group friendships forming\n",
      "round 20. intra group friendships forming\n",
      "round 21. intra group friendships forming\n",
      "round 22. intra group friendships forming\n",
      "round 23. intra group friendships forming\n",
      "round 24. intra group friendships forming\n",
      "round 25. intra group friendships forming\n",
      "round 26. intra group friendships forming\n",
      "round 27. intra group friendships forming\n",
      "round 28. intra group friendships forming\n",
      "round 29. intra group friendships forming\n",
      "round 30. intra group friendships forming\n"
     ]
    },
    {
     "data": {
      "image/png": "iVBORw0KGgoAAAANSUhEUgAAAdoAAAE8CAYAAABn+XAwAAAABHNCSVQICAgIfAhkiAAAAAlwSFlz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\n",
      "text/plain": [
       "<matplotlib.figure.Figure at 0xaca8470>"
      ]
     },
     "metadata": {},
     "output_type": "display_data"
    }
   ],
   "source": [
    "apocalypse(30, 20, .9)"
   ]
  },
  {
   "cell_type": "code",
   "execution_count": null,
   "metadata": {
    "collapsed": true
   },
   "outputs": [],
   "source": [
    "#Can run step by step here:"
   ]
  },
  {
   "cell_type": "code",
   "execution_count": 108,
   "metadata": {
    "collapsed": false
   },
   "outputs": [],
   "source": [
    "start(40,.7)"
   ]
  },
  {
   "cell_type": "code",
   "execution_count": 109,
   "metadata": {
    "collapsed": false
   },
   "outputs": [
    {
     "data": {
      "image/png": "iVBORw0KGgoAAAANSUhEUgAAAeIAAAFBCAYAAACrYazjAAAABHNCSVQICAgIfAhkiAAAAAlwSFlz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\nYII=\n",
      "text/plain": [
       "<matplotlib.figure.Figure at 0xa71ba90>"
      ]
     },
     "metadata": {},
     "output_type": "display_data"
    }
   ],
   "source": [
    "nx.draw(G, node_color = c, with_labels = True, node_size = 500)"
   ]
  },
  {
   "cell_type": "code",
   "execution_count": 146,
   "metadata": {
    "collapsed": false
   },
   "outputs": [
    {
     "data": {
      "text/plain": [
       "2"
      ]
     },
     "execution_count": 146,
     "metadata": {},
     "output_type": "execute_result"
    }
   ],
   "source": [
    "begin_round(1)\n",
    "k = 1\n",
    "game"
   ]
  },
  {
   "cell_type": "code",
   "execution_count": 132,
   "metadata": {
    "collapsed": false
   },
   "outputs": [
    {
     "data": {
      "text/plain": [
       "{5, 16}"
      ]
     },
     "execution_count": 132,
     "metadata": {},
     "output_type": "execute_result"
    }
   ],
   "source": [
    "crew1"
   ]
  },
  {
   "cell_type": "code",
   "execution_count": 147,
   "metadata": {
    "collapsed": false
   },
   "outputs": [
    {
     "name": "stdout",
     "output_type": "stream",
     "text": [
      "round 1. 31 zombies attacking 1 humans\n",
      "round 1. human 33 infected\n"
     ]
    }
   ],
   "source": [
    "#if game is 2, do a zombie fight\n",
    "zombie_fight(k,l2,l1,crew1,crew2,e2,e1)"
   ]
  },
  {
   "cell_type": "code",
   "execution_count": 81,
   "metadata": {
    "collapsed": false
   },
   "outputs": [],
   "source": [
    "#if game is 1, do a human fight\n",
    "human_fight(  k, l1, l2, crew1, crew2, e2, e1 )"
   ]
  },
  {
   "cell_type": "code",
   "execution_count": 144,
   "metadata": {
    "collapsed": true
   },
   "outputs": [],
   "source": [
    "clean_up()"
   ]
  },
  {
   "cell_type": "code",
   "execution_count": 145,
   "metadata": {
    "collapsed": false
   },
   "outputs": [
    {
     "data": {
      "image/png": "iVBORw0KGgoAAAANSUhEUgAAAeIAAAFBCAYAAACrYazjAAAABHNCSVQICAgIfAhkiAAAAAlwSFlz\nAAALEgAACxIB0t1+/AAAIABJREFUeJzs3Xd8k1UXwPFfupuUIVNAhsoSVEYBQRBBFBFwoYiIgpOp\n4sYBqLhwT3CA60UB5QURRQXkZcgSWmYZouxN2Z1pm9z3j/PEpmnSAS0p5Xw/n36gT57nyQ2kPbn3\nnnuuzRhjUEoppVRQhAS7AUoppdTZTAOxUkopFUQaiJVSSqkg0kCslFJKBZEGYqWUUiqINBArpZRS\nQaSBWCmllAoiDcRKKaVUEGkgVkoppYJIA7FSSikVRBqIlVJKqSDSQKyUUkoFkQZipZRSKog0ECul\nlFJBpIFYKaWUCiINxEoppVQQaSBWSimlgkgDsVJKKRVEGoiVUkqpINJArJRSSgWRBmKllFIqiDQQ\nK6WUUkGkgVgppZQKIg3ESimlVBBpIFZKKaWCSAOxUkopFUQaiJVSSqkg0kCslFJKBZEGYqWUUiqI\nNBArpZRSQaSBWCmllAoiDcRKKaVUEGkgVkoppYJIA7FSSikVRBqIlVJKqSDSQKyUUkoFkQZipZRS\nKog0ECullFJBpIFYKaWUCiINxEoppVQQaSBWSimlgkgDsVJKKRVEGoiVUkqpINJArJRSSgWRBmKl\nlFIqiDQQK6WUUkGkgVgppZQKorBgN0CVbKmpqUybNo25cxezdOlKjhxJxGazUbVqddq1i+Waa66k\ne/fuhIeHB7upSil1RrIZY0ywG6FKnuTkZEaOfJnPPhuPzXYZycmdgVigGmCAnUA8Zcr8RGjoFp58\ncihPPvmoBmSllCokDcQql8WLF3PrrX05dqwt6emjgDr5XJGA3f4kNWseZNq0CTRq1Og0tFIppUoH\nDcQqh59++onbb7+P1NTxwA2FuNJgs40jJmYEc+f+TMuWLYuriUopVapoIFb/WrFiBR06dCM1dSZw\nsoH0J8qWfYC1a/+kdu3aRdk8pZQqlTQQKwDS09Np0KA5O3eOBG4/pXuFhb1Gq1bzWLRoFjabrWga\nqJRSpZQuX1IAvPPO+xw61ADodcr3ysp6kjVrDjNlypRTb5hSSpVyGogVLpeLd98dS2rqCMC7B3sX\nkiVdHmgIfO7n6lHI2+h/XsfCSEl5htde+6i4mqyUUqWGBmLFvHnzcDqrAM19HnkG2AYcA2YAw4FV\nXo9vBf4LVPdz1xv566+/2bJlSzG0WCmlSg8NxIolS5aRltbRzyONgCjr7wbpLXsH1iHAG4C/tcPh\nhIW15c8//yzStiqlVGmjgVixePFqsrJ8e8MeQwAHcBHS8+1qHZ+CBOkuAe+bnNycFStWF2FLlVKq\n9NFArDh06ChQKcCjY4BkYBHQA4i0vn8O+CDP+xpTiYMHjxZdQ5VSqhTSWtOKsLBQICuPM2zA5cAE\nYCywA+gL1Mznzi7r3koppQLRHrGiXr3a5Jz7DSQLSdD6H9IbrmZ97QJuA97McXZ4+D80aKBFPZRS\nKi8aiBVXXNECu32Fz9FE4DsgBXADs4DJwNXAXCABWGN9VQc+Q+aTs0VHx9GiRWyxtl0ppc50OjSt\n6NSpE273CCCd7CxpG/AxMAgJxLWB94Fufu4Qhqw1tnsd20tm5lpat25dbO1WSqnSQAOxom7dujRt\n2pRly75H5n5BkrfmF/AOW3MdCQ0dx2239aJs2bJF00h1RsnIyCAhIYFVq1Zx5MgRQkNDqVWrFrGx\nsdSpUydH6dODBw+ybt06kpOTiYyMpH79+px//vlaHlWdNbTWtAKkqEf37v1ITV0HlDvFu20nOrol\nq1YtokGDBkXRPHWGWLduHWPeeotJ339PzfBwmrvdVHE6cYWEsCUqivisLKLKlOG2fv1ITUpi+vff\ncyI5mUujoihrDE6bjY2ZmaQA13ftyuAnnqBVq1YalFWppoFY/atfvwF8/3066elfkbPUZWFkYrd3\n5tlnu/Dcc8OKsHWqJEtNTeW5J55g8ldfMTgjg/tdLqr5Oc8Ay4G3gdnASOBRcr/b9gETQ0IYGx1N\nwxYt+Ozbb6lRo0axvgalgkUDsfpXUlISrVp1ZOvWDmRkvEnhg3EG0dF30bp1CrNnTycsTGc+zgZ7\n9uyhc7t2ND1wgA/S0qhYwOv+BO4GrkRWq/tb6JYJvBoWxpioKL6ZOpXOnTsXTaOVKkE0EKscjhw5\nQocO3diypSKpqZ/hv460P5twOO7h8surMmPGZKKiovK/RJ3xEhMTadusGfft388wl6vQ1ycB1wMN\ngE8I/NFvEdAjOppvpk/XYKxKHV2+pHKoUKECcXELGDo0lujopoSFPQfszOOKjURGPozd3o5XX72T\n336bpkH4LGGM4YE+fbjx4MGTCsIAZYCfkEA7KY/z2gFT09K485Zb2LNnz0k9l1IllfaIVUCbN2/m\nnXfGMGHCBEJDz8XtjiU9vRo2myEqaicQT2hoCgMH3s9DDw3UObyzzORJk3jlgQeIS0kh8hTvFYcs\njEsAKudx3vNhYcS3a8fP8+ad4jMqVXJoIFb5yszMZP369axcuZLExERsNhvVqlWjRYsW1K9fn9BQ\nLWN5tjHG0OSCC3hr+3a8B4rvAn4H0oBzgSeB+5D54BFAPDLvG4aUiukDfGFdeyuwDEhFhqhjkZXr\nF3ndPwNo4HDw/bx5tGzZsphenVKnlwZipVShLV68mHuvvZaNKSk55rc2ABcgZWH+AjoAvwAHkMB7\nrfX9OGAz0InsQLwI6AnsRubMPgLGI7XbvL0eEsKmW2/ly+++K4ZXptTpp2mtSqlCm/3rr9ySnp4r\nyaSRz/eeHaxv9Tp2G1APaONzbjtkw81NSPJWCP4roPdxu2k6cybGGF1frEoFTdZSShVa/MKFtAiQ\noBVoB2tvC/A/FxwLtEKKpQ5FNtv0VQMIc7vZuTOvJEKlzhwaiJVShbZjxw7qBnjM3w7W3tYCLyHD\n0r7qAcOA48jQdBM/59iARhERbN68+SRarlTJo4FYKVVoWVlZec5reXaw3oVsHeLxD9JD/hD/u1mH\nIZttRgMDkMrnh/ycF4nUs1aqNNBArJQqtPLlyvkNkL6yyJ7n3QFcAzwP3BHg/EPAOdbfXUgGtb9V\nw8eBmJiYArdXqZJMA7FSqtCaXnYZq3yO5bWD9V5kKPoh4F5kw00XEqid1t9/B/4ALgVOAI8BFci5\nfAnr3glpaVx88cVF/rqUCgYNxEqpQmvdoQPzfHqknh2sayIB9Cmyd7AeD2wDXkASsaKB14Bvre9f\nQYJ1AnAzMle8DfgNiPB57nVA5fLlqVixoFWtlSrZdB2xUqrQTpw4Qe1zzyUhLY2iqqf2EdIjzm91\n8EORkZzz6KOMeu21InpmpYJLe8RKqUIrW7Ysd/bpw+sRvv3Vk5MCvIMsfcrLfuBbm40HBg8ukudV\nqiTQHrFS6qQcPnyYS+rW5btjx7jiFO81FDgMfJPHOQboYbfTcOBAXnv77VN8RqVKDu0RK6VOSsWK\nFflswgR62+1+K2AV1FfAdOCDfM57NzSUv6tW5YVXXz2FZ1Oq5NFArJQ6ad27d+f5t9/myuholhTy\nWhfwBjAcybCuEOA8N/BKaCgfVqzIL/PnExl5qns9KVWy6NC0UuqU/fjjjwzs14/eaWk8nZFBlXzO\nj0eGo23ABKBOgPM2Af0dDtz16jH5p58477zziq7RSpUQ2iNWSp2yG2+8kXX//ENKr140iIqit93O\nZ8g+wzuArcg64deB2OhoOoaEsCMigluQIh5O6z5uJPhOAK6NiaF9mTL0ePFFFsTFaRBWpZb2iJVS\nRero0aN89913LJs7l1VxcRw5fpzQkBBq1ahBbLt2dLruOrp06cKCBQuYOH48ccuWsXHXLkJtNjJd\nLmpXrkxs8+Zcf8cd9OzZk6ioqGC/JKWKlQZipVTQuVwunE4n4eHhhIeHB7s5Sp1WGoiVUkqpINI5\nYqWUUiqINBArpZRSQaSBWCmllAoiDcRKKaVUEGkgVkoppYJIA7FSSikVRBqIlVJKqSDSQKyUUkoF\nkQZipZRSKog0ECullFJBpIFYKaWUCiINxEoppVQQaSBWSimlgkgDsVJKKRVEGoiVUkqpINJArJRS\nSgWRBmKllFIqiDQQK6WUUkGkgVgppZQKorBgN0Cp4pKamsqyZcuIj4tj64YNZDqdlK1YkSYtW9Kq\nVSsaNmyIzWYLdjOVUmc5mzHGBLsRShWlnTt38u7o0fzn669pGBZGi/R0GmRkEA4cBVbHxPCH203V\n885jyNNP07dvX0JDQ4PdbKXUWUoDsTpjpaWl4XQ6iY6OJjIyErfbzacff8yIp57ivsxMBmVmUifA\ntS5gFjDa4SDj/PP5asoUGjZsePoar5RSFg3E6oyRlpbG5MmTmfHNN8SvXs3B48eJCA3F6XJxftWq\n2ICsw4eZ5nRySQHv6QY+DQlhZHQ0k6ZP5+qrry7GV6CUUrlpIFYlnsvl4r233mL0yy9zGdAnOZlW\nwAUgwRfYCCwBPgcSgbeBHoV4jj+AW+x2fvz9d9q0aVO0L0AppfKggViVaLt37+a2bt2I2LKFz1JS\nqF+AaxYC9wMtgPGAvYDPNQN49NxzWfvPPzgcjpNssVJKFY4uX1Il1s6dO7kiNpbu69fzvwIGYYD2\nwGrkzd0FSC3gdTcA7Y4dY+SwYSfRWqWUOjnaI1YlktPppGWjRty9YwePuVyFunYM8BWwDjgPaAlM\nAiYCA5DhbJCErTQgHmhmHdsLXBwdzfb9+ylbtuypvgyllMqX9ohViTRq+HAu3L+fRwsZhAFqACOA\n+4DLgZXAVOAOIAk4YX2NBS4kOwgDVAc62WxM/PbbU2q/UkoVlAZiVeLs2bOHjz/6iI9TUzmZchs3\nIcPMFZCKNeOBx5AesLevgb5+ru+emsrCX345iWdWSqnC00CsSpxxH3/M7cZwrs/xu4BqQHmgIZIh\nDTLkXAYoa305kDf2fuvxK6zrvEPrDiRT2l8gjgXi4uJO/YUUk4yMDKZNm8ajQ4ZwZdOmNKhenYY1\nanBl06Y89uCDTJ8+nczMzGA3UylVQDpHrEqcBtWrM2nfPpr7HN+ALFmKAjYDVyLBtZnPeV8DLwO3\nA3uAL4BxwP+QuWKAl4B51jFfJ4AakZEkpaef+ospQk6nk7dGj+ajd9+lgdvNdUlJNEfmwQF2A/E2\nG7/ExPBPaCgPPfYYjw8bRkRERBBbrZTKjwZiVaIcP36cGpUrczwzk7yKTv4FdAQ+AG71eewq67EM\nsgPxemTI+m/rnPrAcPz3iJOAc8PDScnIOOnXUdRWr17NXT16cMGBA7yWmkqjfM5PAJ6229ldvToT\npk3jkksKWuJEKXW66dC0KlHWr19PY7s9YBAeggw9X4QkVnX1eTzQkHNDYBeSJb0Y2AfcEuA59gFV\nypUrfOOLycKFC+ncrh1PbtvG9AIEYYCLgZ9SUxm6ZQud2rRh8eLFxd1MpdRJ0kCsSpTk5GTK5PH4\nGCAZWIRUzor0efw/QDugKpKclQU4rcfsyJrir5EgHKhkRzzQvGnTk2l+kdu0aRO3du3KpJQU+kKh\nktdswD3GMCElhZu7dOHvv//O9xql1OmngViVKJGRkf8GzkBsyLKkXcDHPo9NQJK57MDrwLfW318G\n0gED/Be4O4/7zwDKnXdeHmecHi6Xi7t79uSF1FQ6ncJ9rgWeSUmhZ9euHD16tKiap5QqIhqIVYlS\nv359NqSnU5DEhSxgi9f3niHnb5DNHFxeX/2QAF0JOAJ0CHDPI8CvwMypU0lMTDyZl1BkPh8/nuht\n2xhYBGkcQ40h9J9/OLdyZTq1asXUqVPJysoqglYqpU6VBmJVolSrVo3IqCi2+RxPBL4DUpAgOwuY\nDHjvlZTXkPMKZFlSfl5FhrzvdDp59tFHcz1ujGHfvn1s3ryZrVu3klFMCV3GGD4cPZoRKSk5fkgD\nLeECWS9dD1nC1RX5UOIRArwCXORycd+KFbx59920bdqUjRs3Fkv7lVKFYJQqYQb07WtGhYYaA/9+\nJYK5Esw5YMqBuRTM516Pp1uPzfM65v11I5jLwJxrXd8AzHifcxZbjx+0nq98VJQ5fPiwSU9PNxMn\nTjRd27UzlWJiTKWoKFM3JsbUcjhMdHi4aVm/vnn+uefM7t27T/m1u1wus3v3bvPDDz+Yug6Hcfu0\ncT2YNOvvm6z2rrRedxUwG8Fkghlk/Xt5X+sCUwfMajBuMB/bbKaS3W6+/+67IvhfU0qdLF2+pEqc\nNWvW0O3yy/knNZWoIrjfVqTe9Cwkm9jfOuRNSJJXXSQbuyqwMjyc6t26sWzePC52u7k/KYl21uOe\npKkUYBUwOTKSiTYbt/XqxRsffFCoOtVHjx7lqy++YPqECazatAlHSAiZLhfXZWQwIY/r/kKWar0P\n/IlkhH9kPbYPKfW5BTjf65p7gNZIzW2ANUCX6GjGTJhAj1sC5ZErpYqTDk2rEqdJkya06dCB54ug\nEIVBgs4TyLaIUV7HbUig+gVoC1wHPAXciQSvw5mZrJk+nRnHjzMnKYleSHDzzlx2IAH8I6eTbenp\nuL77jkvr1mXFihX5ti0jI4ORTz/N+dWrEz9yJM+sWcM2p5N9aWnclJFB2wDXeS/hqkbuJVwgw/cg\n64m9NUc+OHg0AX5OS2NAv37s3Lkz3zYrpYqeBmJVIo358ku+jori91O8z1tIz/FXZI74XCAcCWIx\nwBQksP0XybjugWyd+DMSnDcivemCKAeMS0/n3cREunXsyLJlywKeu2XLFlpcdBGrP/yQ9enpfJOa\nShegovX4EaBygGv9LeHqYr2WBKRnPAr54fbdArIy4Js3HQs86nTSv0+fAr5SpVRR0kCsSqQqVarw\n/U8/cYfdftLB+H0kQakv8DzwCRJwxyBLenYAa5Ekp45e1w0CagFfknudckHcDHxprd09ePBgrsf/\n+ecfrmzZkgHbt/Njaio1/NwjlNybVHjzXcLVCakU1hapu/21dd5u689MoCfwMPA9sNDnfk9lZbFp\n5Uri4+ML8hKVUkVIA7Eqsdq3b89/f/2VO8uW5enwcApa+TkRCYZjkGHYl5FA1RIZRu6P9JD7Ib3B\nO4EnkcIfPyE9zU85tR+ObkDvEyfodf31uN3uf4+npaXR/aqrGHn8OEPc7oAFOmqRc2lWIN5LuO4D\nHge2IXsxRwAvAJ4B5yuQXali/NwnDBiQns7H77xTgGdVShUlDcSqRGvfvj1rNm/mn6uvpp7dzsuh\noeyAXOuM3UjwGQg0QJKu1pAzUcmXQYZq1yLD192RgDyWnEug8loylAYMtu5zDjnXJ79iDBuWL6dO\n1arMnDkTgOFPPkmzQ4fo7xWc/YlFKnx5y2sJlxMJwCOt19UfCcoXWPcJR3rDiQTu5fd0u5n12295\ntkspVfQ0a1qdMVatWsXH77zDjz/+iMnMpFFkJFHAcbeb1UlJRCIVsx4Favtcm4jstNQdiAbmIJtF\nTEZ6ry5kuHob8A85E7Ly2vXpTiQofoQE4tXk3A3qdWSXp812Oy07dWLO7NlsdjqpZD0+BvgK+RBx\nB7JBBUjPvAcyzByOBPiRyHz2Wus5awNDgXuB40B7JEO8jHXsQavdq5FNLo4DdZBKY5Os870Z4JyI\nCDbv2kWVKlVQSp0eGojVGccYw969e9m0aRMZGRkcOnSIgX37sha4MMA1h5DA6x3ELkF6wp4gGG5d\n/xQwFwlku4DLkPniWuTc9ekS67Hd+B/uBTiI9M53A/1CQ1nrcrGe7Ozt6ciw1Cykd+0JxL8h89q3\nI3PWQ4C9yJB6QWQhWeD1kB4+VpuXIBXIviV3IAZoUbYsY+fMoVWrVgV8JqXUqQoLdgOUKiybzUaN\nGjWoUaMGxhiaXnghLxM4CIOUtpzvc8w3CK5ChqEPIxW6vkB60MOBVsj2iGnIEqCuwFQkOI9EMq6r\nI8Gzh9dzVLGeey/wX5eL25Hh86+sx2+y/lyBbNno0QUZCu+BJJs9SOCynL4M0lOPBD60jh1Eqob9\njATiQMJsNi19qdRppnPE6ox17Ngx2rdowa5t2xjidTwDuB8Zhi2HBE7PzOdEZOi2LBLgeiM9xsPI\nEPQlwDSk8EcPshOeTgAryV4yFIH0chOQIel9SNDrh/SavV2K7IccivSs/0CGnvPTGuiFBO75QOMC\nXAOStHXIeh2hyAjAAKttLfK59ojLRbkStAWkUmcDDcTqjHTs2DE6tW5N2urVDEICo0cW0lP9A5kX\nfQm4DckevgPp2Z6wvsYigbQi0tuNQYJmE6/72ZHh5Q3kXDIUbT3vcGRoqT0ybD3bp60O695Y9/8U\nmcfOO11LvILMSz8DvFGA8wciVcJmWG1zI8lkh4Hn4N/Mcyfk2uXqBLDH6aRBgwYFeCalVFHRQKzO\nOMYY+t56K623byfS7c6x8QNI4BwJ1LS+74ZkT8chwXgRsACZG/4K6bGCzNumIMUyfPuEZZEADhLo\nf0CCsRNJjPKwIWt2vTOpZ0GOUp2drPv5Bmx/9iLrnUGSxHp5PeZZG3w+8oM8BfgMSc6qigT9CGTN\n8M/IhwuHdc8uyL+Tdy2tRUCzhg0JC9MZK6VOJ/2JU2ecbyZMYPuyZUxxOqmIDD0HYpC54PXIcHUE\nMpcciszJbkWqbWUhS5PWIwHshHW9J9v6KBLEPEuGhiJLjO5BEsBcwDJkCNlY9/gLCcS1kUpeHjar\nLRORgBjIDuAapBd/NTAa+BHp2Q5AllRdgfSueyLB1w1sR3rd44FnkeSzMMi1o5WvT2NiuPuhh/I5\nSylV1DQQqzNKZmYmTz/yCD+kpOBGAmg0Eth+RwLmhUhiUh2yA2UbJMP5HSQAXoUMWf+OBLQlSI93\nKTIX66lMZUOWJm2w7nU+UrHL0wuejSRtlUcC7mhkGNmTSX0IKVfZ0Od1tEXmlF1Iz9ZlvRYn8kN5\nAOk5PwQ8Zl2zCunlJwNNkV57OyQRK8l6zYOR+eq+1mupW7B/VtZY/wYT77ijgFcopYqKBmJ1Rpkx\nYwYXZGXRCglanmDsmROuCcxEKmtFIoGoA/Aekgld3eteE4BhSGWqCGT971gkID2FDD93RYK4yzru\nqxKSWe1ZdjQBCcieTOpwpMce6nOdA+kxxyDztjbr61sk8xqkB/uC9WWQJLQ+yAeBN5Ae73PI0iYb\nkmj2KpJoVpjtMjKAfg4Hb77/Pg6Hv92clVLFSeeI1RllypdfcneSzNZGIL3CY+ScE96NBM6LkJ7q\nD0hVqTeQwAiyhGcH0pN+HQmATyC91/VIL/dZoAIytzy5gO3bjcw9n2Pd32Zd75tJPRT5FLwT6f1e\njARYl/VaRlp/9ySVJSEfDjwikQBcBViOZIJfjwT9wgRhNzAgKorabdrQ7557CnGlUqqoaCBWZ5S4\nuDhaW3+3IfO0cV6PL0OymF1Ij3kGMq8aRc752K+RpUvGOtfz9SmSedwG2XnpDSQI1idnUlYg3pnU\no5HAeDW5E7O2W386kGDaBfkAUBh/I9nQ3kPghXECuCMqiq2NGzNx+nRstkCVr5VSxUkDsTpjOJ1O\ndiYm5phv7YgEWpAh3n7IUiQ3soynKpJp/DtS1hFkKPa/SDlMX7ciWdQPIUG6BjACWZtbEJ4M7LnI\nbk+fgt+NHfogvXMbkjT2K1IJq6DcSG9+OJItHYHMYX+FvL68uJAEtkvsdsr27MmvCxfqkLRSQaSB\nWJ0x0tPTiQoLyzHfeg8yjHwEmZNNQuaFs5C9eGsivc5Q4EXr8QjrfM/wdQySGOVZyvM5kuA1EJn/\nvQEZovbmQgK/d5KVC1lLXAm4ERnO3oZkUl/rc30UEojLIvPbLa3n8cffc71kfT/QOlYO2YP4S2SO\n+knr3+VvJHlrK1JEZERICHUdDl5p0IBxP/zAZ//5D3a7PcAzK6VOB601rc4Y6enplHU4SHe7c3yC\nHGj9OQUJan+SPU96ETJsG4YErENI0HoESeDyLmP5B5JpDDJs2xMp3vE9suvRHrKTsl60vrx7u88g\ngX4SMty8AwmKr5IzyBpkDe8lyFx1MvKBogEyX+3L97kMMve9HikwstPn/FnImuB4pPJXIlC2TBku\nadSI2PbtublnT1q2bOnnmZRSwaCBWAXN7t27WbFiBWtWreLEkSOERURwYYMGxMbG0qRJE8LDw3Nd\nc36VKvzqMzx9HMmGzkCWL3lvwHAUWR4EsqvSFchyoDpIwFxkPZaK9GQ9OxWBBLyrkTrQFZGe9vdI\nIpZHJhLsJiG90S5I0pVvD9pbHNIDrgF0RpZULUCGwNfmcd0u4AEksM6wrs/PIuDuc89l8549hITo\nAJhSJZEuX1KnlTGGadOm8dFrr5Gwfj2XRUTQNDmZGm43mcCfdjtjQkM5FBLC/YMGMeSRR6hateq/\n17do3pw/Z83KFYjTkB5jNeuYDZmf7Y1kF39lnRNOdhlKf2Us15MdiG3IPHIKUmf6CNLjroT0SDOQ\npKvayDKnOUhP+ldkDrcCsiTKe8mUQXrOFZCe/C5kbXJF63kzyJn1nIp8EPgCmQt/AllylfsjSm4Z\nwGCHg+dff12DsFIlmPaI1Wmzfft27rv9do4lJDAsJYWbCLzUZj0wJjKSqRERvDN2LHf06YPNZmPy\n5MmM69+fuUlJOc5/Fen9vhngfgYZdp6PLAMaiAwfv+p1TjugP1IMw2Ml2WuJf0OCbA1kCDocqco1\nEyl3mYAMN1+AJF8ctK53IEPPDyA96klIItfjSCGNEKstLrIDc5bV5t1AI2Q7xHuQgF1Qj4eH83f7\n9vw4Z45mRCtVgmkgVqfF4sWL6XHddTyWmsrjLleBh2LikWIT7W+7jY/GjycrK4talSsz68SJHD3a\n55Ee7Av53G8QEti2IMHuI6/HLkESnm72OpaA7LZ0K9IzXY3MRXdAMrHvR+ahhyAJWb49VYOsK/4E\nWaschqz7DbRl419Istj/kASr8shQewNkqdaN5CyX6Y8Bng8PZ2r16iyIi6NSpUr5XKGUCiYdr1LF\nbtWqVdx87bV8nZTEsEIEYZDgsyQlhbXffcdjgwcTERHBi6NHc7/DgfeuuQ6yN2XISxYS4C5GgqpH\nChKcfbf2nLMSAAAgAElEQVQa/ADJPH4dCY5HkE0kOiDrij9Besnd8T9cbEOWNI21nu8S67pjPuf9\nhVT+aoOsDR6EDJ//CvwH2bd4H1Ka8yoC7ym8C7jObue3evWYt3y5BmGlzgRGqWKUmppqGpx3npkI\nxpzC1zEwF9jtZsaMGcbtdptOrVubx0ND/318Jpirfa45CGYymGQwLjC/gYkB8zOYRDDlwUwDkw7m\nSTBt/DzvODB3+RwbDKaxdY/Cvg4XmIfAtARzAowbzFtgKoJ52zqW1/VOMP8BUw3MI1bbXWBWghkY\nFWXOiYoyL7/wgsnIyAj2f71SqoA0WUsVq5dHjuTSw4fpfYr3KQd8nprKnf36UWvePE4kJfGF2004\nsmdvLDKMnUl2z9SGzN0OQpKnaiMZzd2sx6ciQ8p3IhtC+CtjuRRo4fX9dGR50J8Ubr7WI8RqQz9k\n16RQZDOH5cjccn4igLuQees+QJ3QUFJCQqhSoQJ9+/cnYeBAqlevnvdNlFIlis4Rq2KTkpJCrSpV\nWJWaSi2v43ch86tpSLLTk0jlqkxky784ZA3ufKRAhrcboqOZ73YzKjOT3m43tyDzrp8j87WDkfW/\nRSEJyXhuiSxZOh8pjTkNWQZ1Kk4ggfdC5N+izEncIwvoExFBWvv2/Dh7tiZkKXWG0jliVWwmT55M\nW8gRhEGW72xD5klnIMU0VlmPXYEkNVXDv4fT0qjqdPKI201VZP3tDUiwzEBqQ7uLqP2fIPO7jyNl\nMlcjFbi8g/AY67mjyF2L+nskMawcMif9o9djG5Ee+0+cXBAG+QAyISOD7UuXMvHbb0/yLqqkMsaQ\nkZGB211U72hVUmkgVsVm9rRp3JSamut4IyRwgWT42pBEqXBkl6TLCfzGvArZrcizwUEoUqBjG3Ab\nUmXqgyJo+1YkQesLZCj7VquNT/icF6gW9V6k5/8ess75DaS3fwh5zQOR/YirnGI7I4AvU1J4dPBg\nUlJSTvFuKpiMMSxcuJCB/foRW68eUeHhOKKjCQ8Lo161atzevTvffvstTqcz2E1VRUwDsSo2C+bN\nIzbAY0OQTOeLkOHfrgW8ZwjQFFmf660csrXgH8ic8VJOXhKybvcZZNkQSA82hJzzxSDZzP5qUe9G\nhrM7W993RV7vFiTjOQ3pZXu7CxkJKA80RIbbPfLqXccCbYxh0qRJqDPT3LlzufSCCxjQrRt1J0zg\no3/+4ajLRabbTYYxTN+/ny4zZ/L1oEHUqlyZ995+G5fLFexmqyKic8SqWCxYsIDOHTpwEAke/ngX\n2RgGOTZzqIkMUfvOEYMkOnUk5+5JGcj88O9ICcgMZGOEpwvZ7kRkre4lyNC0Z9b1P8AvBN6XeAQ5\na1G7kWHsx5EgPAPp7f8FPIgsk3rM5x4bkHnjKGAzcKX1nFWR+emfkMD+CzIPvgOp8oV17OXGjVmS\nkFDIV6xOJ5fLxebNm1m5ciX79+/H5XIxd+ZMNixfztj0dLrjf7cubxuAgQ4Hpn59Js2YwXnnnXca\nWq6Kk2ZNq2Lx7ksvEUreQy4dkexjF7KpwQVIzzM/IeSeB85C5qL/QIL4K8CzSEB7n/znYQ3S6xyK\nVMDy3dBhC9m944IIQXq4vZGdkyKRQiDRyIePh/xc08inPZ4h+0wC9649gbg9sHrzZjIyMoiICFSv\nTAXLzp07+eTDD/n800+JMYZYoFp6OrNcLmobQwKBP7D6agTMT0lh9Nq1XBEby4IVK6hVyzcTQ51J\ndGhaFbn9+/ezcNEiKiHzuYHYkEIX/ZDebEGCMEiBjS+Q3q9nOMcOjESCMMBzyC+sbciypYeAech8\nrUcmkoD1LjJE/hqyPOklcv9gZBK4HKc/vyOlNBda185H5pGXW23yLRzi4W/IvoX1/c/IB5DpSK/5\nUq/rYoA6UVFs3FjQf0V1OrhcLt554w2aN2xI2gcfsDApiS3JyXyfnExGVhb1jeFnCh6EPUKAZ10u\nHj58mK5XXkl6enoxtF6dLhqIVZFbunQpbSIjaU7uudxEZEvBFLLLP05GdjkCGVL2/EpxWl/eDNLL\nvQ4Z2m2KLHfydQBJuPoUqedcAcnOrgFURpKkHEiPdR0wDln+9BC5M6B3AKOR8pdlkD2EX8nn32AN\nMrTczPq+BbJW+Rfr+kCbNoxBtkVchJTWjCRn7zoSWff8KdK79lY5JISjR4/m0zJ1uiQnJ9P1yiv5\ncdQo/kxL492MjH9HVX5HapRPoGAbeATyiMtFg4MHefG55065vSp4NBCrIrdyxQpik5O5HJjr85in\nyEZNJNh8aB0fjSxFaoAEyL3IloJ2cu63ux7pmT6LBLunkKzm0WT3jrOQYHU3sqNRTWSoeTGyZGo9\n0BqZl/4ImW8NQYZ//WVAe9rdDknkOoH0uEGG1dOtP7OQDw4uZEnTIquNIMuzFiGJVvml2NiQzPFd\n1r/VXPz3rn23THQBoaGhqOBzOp3ccPXVVI+LY25KSo7a4gaZAhlL4XvCvmzA2NRUPhs7lh07dpzi\n3VSwaCBWRe7Azp3UcLu5C5l3PeH1WCUkkBxB5kqPWX9/ALgeqefs8vnynv36GOm52qyvPkiQm4QE\nUYME4Uiyg7yHQXroTyE9knHAy8gc8uPAAKS4SAKy/aDvtfFk99Y9XkY+LLyOJJfZkd5ye2QjiluR\nX7Y9keB9MxKsfWtN+5OFzAOvxn/v+nef87dkZOhcYQkxavhwHOvWMd7pzJWIs8D6s5vXsQzkfV0H\neb80R3b78hgP1ENGU7oidcc9qgJ3ut18NmZM0b0AdXoFsbymKqX633mn+cSqjdwEzNMFqME8CYwD\nTASYumAW+Tlni1WTebefxw6CqQemA5hOVk1m78d3gbkOzPlgRoPZadV59j4nE8wKMM2tdrwAJgPM\ndjAhYKLAVABzD5hDJ1Fn2vPVFszvftofqC72AjBVwKy2zl0JphKYOV7X7wFT0eEwbrc72P/9Z72V\nK1eaKtHRZl+A///7wbzjcywFzIvW+9JY/+9lwOwAM8/6/99ovUcHgbnS5/q1YGpXqhTsl65OkvaI\nVZE7t3ZtdllDpIlIzzM+j/PnIGt2LwXeRoZgfesuu5Hh2KeReV5flZFh38VI78E7sepXpDfZBlk+\nNAwZrvZdJhKG9Da7IuuDlyND2FnIFoiTkd7HcaQnfrKuBn7wOeY9ZF8B6bV76mIH6l1f7XX9NJuN\nqzt21DKXJcDrI0fyTHo651rf+/Z2vyXnUOT3yPvubST34Ufk//185OdmJvJ/3hB5j45Afka2ed2j\nMXDsxAkSExOL50WpYqWBWBW52FatiHc4OIgM8Y5BhmS9f3EcR7b5cyJB5hokaeoq5BdNG7KH6H5F\nkqhOIBsuVEQCYi9gv3W/nUg2sUHmhT1JVU8hc8UzrPsWNDHGgWQp90B+OdZACnfURoYIZyMJZyfj\nfuSXcaAh+2PI3LJ3wthgJFv8OPAP8IjXY25grMPBoCd8636p0+3AgQPM+v137vYqz+C9tO4IEphH\nIO/ZQBXYNiD/3/6y6z1L97xXjIcATaKjWbduXVG+HHWaaCBWRa5NmzYsczr5E+nl9kJ6vO3Jnh/L\nRLKYKyNzxbOQwNsZCci/I7+YhiEBcCmSoDUQyWLegSzZuce6Xy3kF9RGpDJVonWfL5EeRpuTeB1j\nkeC+lez52c+Qilc26/lGIT9E/yvEfUOAsNBQngkrmmX8n4aEUO7882nf3l/5E3U6LViwgPbh4ZT3\nOua9tM6JfBj09Hb9VWCzIx8e70Y+VHZB1qAnIBXZPO853zyGcsaQlFSQXblVSaOBWBW5ypUrc02n\nTvxMdiGNQcjQ6x3IWtkUZOj3LySoVUUSqdYiv6i+QHqNTyAB+kngFusrBlli9CCwxOe56yKZ1wuQ\nnufjyPByQfhmQFdBgv8N1vFPkV+STZEqYJ8D/0XW+xbUBqC93c6QYcOYXqZMroSrwtoMjIyM5Mvv\nv9dh6RIgbulSWiYnB3w8HOkRb0amUnzXiP+A/GxUJDvZsBPwAjI6c4H1VQbwrafltNm0mMsZSgOx\nKhaPDh/O1MjIHFnG3ZFeaiQy5NwJ6XWC9AT+Qn4ROYA3kWD8HvLJ31/N6gX4H7prhew1vJucmzTk\nlZm6A5l/i0YKe0xAevKegb505MNEHWRIsRsy7F3Q+rApwGuhoVzpcPDcBx/wwiuv8M3Uqdxht+f6\nMFFQW4DOdjuvf/ABDRs2PMm7qKK0Y9Mm6uZRNdiG5C/cjExx+K4Rvw35IPkjOUu+DkKC9z4kIGch\ngdzbxqws6tWrVySvQ51eGohVsWjTpg1db7zx33W0HhWAd5Bglo4sPYpAajkPQ4LreciQ3Cyk3vPd\n1vfe1iIVsN7y89wXW/cZQs4art5zdcet6z07NkF26UxjfbmQ6lzx1vfXIIF9KDL8XdNq+16kOtib\nZC99ciLrgKcDD0dEUCsqihWdOhG3fj333CcrlTt27Mh/pk7lBrud90JCCrV94xSgbXQ0w15/nXvv\nv78QV6rilJWVFbBusGdpXXlkuBlyVmC7D+kd7wc2eV3nRNa+g7xX+yM5At5rkA8AJ9xuLrzQe8Wy\nOmMEO21blV4nTpww0Tab2RVgGcdNYKaCGQmmlbWE5wiYK6xjvcB0A5Plc93fYGqA+TbAfSdaS40O\nF2Ap0aVgpllLlGxez7UDzDVgmoHpAaaf1zVJyFIpz1KTmmBuB2O3lplEggm3/l4xJMS8OHKk2b59\ne8B/p82bN5t2zZqZljExZhK5l155vjzLmq5zOEyD884zS5cuPY3/m6og7r39dvNxgP+/e5CldePA\ndLWOvWW9v3ZY779oMGHWe6iM9V4+Zr1PY8BUA/McuZfevWOzmd433hjsl69OkvaIVbEpU6YMN15/\nPf8J8LgdKec4Apkrq48MNcciQ8WHgGnkHKLbgfRMn0fmm/3Zgsyx+W5N6OsA2XN1IMOGdYBzkeHB\nVsg8diNyDh29APQlu651KFKQZA0y3NgNqcC1Dgix2xn54ovUrl07YDvq1avHgrg4nvryS8a1bEnV\nyEg6lSvHo+HhjASeCg2lW9myVIuO5pm6denx3nus/vtvWrcu6Oy3Ol2aXn45q6Kich0fiPRyZyBL\n35YjWdGeCmxHkdGYxUiP+Wckq7430vNdg7yn9iJFZLyzAbKAj+12hjz5ZLG8JlX8dBtEVaxWrFhB\nzw4d2JyammvThFeQpTpv+hwfiAw9/44Ea489SIWpweTeQtBbNyS7NK9M5ixkWVI9ZJ46BZmjjkB2\nhfIsgfqN3FscNrO+93xASER+eQ5DtjrsZd3nSeC+2rVZu317Hi3J7eDBg8THx5OQkEBKSgqRkZE0\nbNiQ2NhYatasqUlZJdjy5cvp26kTG5OT/w2WO5EPeFFkv2cygQuRD2ufIBuPHERWETxIzuVp+Xkt\nLIx5rVoxa9EifW+coTQQq2J3Q6dONF24kFFZWTmOz0I+3f/hdczfLy0bkrH8N1Iz2mEdN9Zj3utx\nAeqEhnJxSAg/Z2b6bY9BehrJ5EyKyURKRw5CMqWrIUH2bSTxaxwy53zCOtejBZJU5qmN7QTaIvN9\nYT178sHnn5Oenk50dDQxMTF+26RKB2MMjWvXZuyuXXTI47ws5D3Sk5wJhYW1HOjmcBC/YYOWNz2D\naSBWxW7v3r00bdCAKcnJXOl1PB1JnlqCLDsqChuBy+12WoWFMeuEb4gW9yIB/xdyVuAajSTNzER6\nJ9WQoO09LP08sibU2wVINa+rvI4lIGuXQ6OjycjMxB4WRmpWFpXLlaNF8+bces893HLLLbrcpBQa\nO2YM0556ijmpqbmqt3nbAVyBVIsbfBLPswLoHh3N+O++4/rrrz+ZpqoSQueIVbGrXr06k6ZPp6fd\nznyv457tBt8twud6LzKSO++6i7UBesPec3XeIXAx0vN9A6l+NBTogGSy1kTWLjdB5o090pBfoEnI\n+uYOXo9dbB27My2NlKwsDqWnk5yVxdzDh7l5zhzGDxhArcqVGf/ZZ+hn4dKl/4ABHKtVi8/zGSau\njVRTex/JdzhcwPtnAaNDQ+nqcGgQLi2ClyemzjZz5841VcqUMc+Gh5t0K9sz0coEXVyADOf8vhaA\nqV6+vDl06JCpXKaM2erzuHdmaoz15clMfcTKtI4BU93Kkt5G4EL8BkwfML2t7Gw3shmD9/OtQbK7\nXQHauwpMc4fDXNuunTl8+HCw/3tUEVq3bp2pZLebhQV436aAeRTZyOMJMJv8ZEV7flbet9lMA4fD\ndGrdOs9MfHVm0UCsTqt9+/aZmzp3NrXsdvNKaKjZBua/yK5IgXarKcjXHjC17Xbz448/GmOMeXjA\nADM8LKzA1z+ILCUp6HKnTWDKIUuZ8jq/Fpi/8ng8A8yjERHm0gsv1GBcysyZM8dUstvNlAK+B/+x\nAnF1MOeAaQHmervddC1XztRxOEyZyEjTq3t3s3DhQt1lq5TROWIVFKtWrWLs22/z008/4c7IoIwx\nuJ1O5iNDdoWxDehit3PvM88wbPhwADZt2kSH5s35Ky2tQJuvX45U1GqEJI/FI/PILmQZVFNkHrsr\nsj/wn0i299VIFa7qyPxxD5/79kAScnrn8dwGeDIiglXNmjFnyRJCQnTGqLRYvnw5d/XoQfMjR3gl\nLS3XrmK+tgLPREcTX748Dz/9NDVq1CAiIoL69etTr149fW+UUhqIVVAZY9i7dy+bN2/m+4kT+X7C\nBF7LyOB+Y/JNYHAB42w2RkRF8cJrrzFk6NAcjw+65x4yJk/m8/R0/zfwUg3JmJ6PZLO2QJaXhCKZ\n03FIXemySDWv3cimFS8iG1osQZZNxSFrkD0eRSqFPV6A19LW4aDf6NEMevDBfNurzhxpaWm88vzz\nfPrxx7QEuiQnE0t2rejdyAe/X2NiiAMGDh7Msy+8QHR0dLCarE4zDcSqRElISOCB3r1J3LaNgWlp\ndHG7/92HFSRRZSPwa0gIn0RHU71uXT6bOJFGjRrluldSUhJN6tVjxMGD3BPgbe5EgukYJBv6XmQ3\nHG+e5U5JwADgVaTYyC4k89uTknMDUmzkIa9r70EKNiQim0i8gex17M8G4Aq7nZ0HD+JwOAKcpc5U\naWlpTJs2jT9mzyZ+6VL2HzpESEgIVSpUILZNG67o3JkePXpoAD4LaSBWJY4xhj///JPP3nuPRQsX\nsvfQIapGRgJwwOmkRqVKXNGxI/2HDqVly5Z5FjH466+/uKpNG547doxBxuRYTpKEbERRDtne8Fy/\nd8i93MmF1LH+FMm2vtw670ZkqNoTiF1IUO+O7CQ1H7geGdoOtFzreoeDm95/n/usetRKqdJPA7Eq\n8Y4fP05iYiI2m43KlStTtmzZQl3/999/07NrV2rs3cvY1FRqIz3ra5E1wJ8SeB1foCpfWchc9jFk\nr+QkZP54BdkbVKxH9mNeZf2J9ZytkV64P9OBj1q25Pflywv1GpVSZy4NxOqskJGRwWujRvH+O+/Q\nMSSE6JQU9gJzyFnL2lteVb56I0Pk3YHtQEMk2esGr+vnIBu+ZyKBfiuy+44D2abRe/N4jwNAw+ho\njqSkYLPZOHz4MPHx8Wzbtg2Xy0X58uVp0qQJDRs2JDQ0UMuVUmcSDcTqrJKUlMR7777Lmy++yDq3\nu9AZ2r4M0hO+Cqkt7W0Y8BGSCHYA6VEnIoHYIEPhXZBet/festWio3nsxRf5bvx4/t6+nWZRUdTL\nzCQMOBwWxipjSHS56NO7N4Mfe4zGjf3tyqyUOlNoIFZnnceGDCFq3Dhe9aq+dRcy/JyGBMgnkapa\nO4DzkcpantrWw4DnvO63BsmY3k52UtleJHu6AZLQtR/ZaacysgH8J0iFrynI/HQrZPOJ6kANm416\nUVE8nZZGZ/wPm+8BxoWG8klEBLf368erb7+N3W73c6ZSqqTTQKzOKhkZGVSvUIG4lBTqeB3fgMwX\nRyFbI16JJGdVsI5nQZ51g9shG7zfgATsq5HlT5/5nNcWuBvZNtHDiexE9QnwlfXYYsjRvkCOAA9H\nRxNfuTK/LVyY53aLSqmSSVeHq7NKQkIC1UJDcwW5RkgQhuye7xav79353LcrUgjEIFvYJSPD0uuQ\nQJuKrD/ejwRib5HAKCRR6x6k5vB5FEwF4Ju0NPrv2cNVrVuzb9++Al6plCopNBCrs0p8fDyxPtsx\negxB5m8vQoaIu1rHbUjvtBaylMlfcf5YpNrWHUhv1rPUaQIyR3wuMA9J4AoP0LbLkQ3hw5Bh7sJ4\n1OWiz6FD9Lv1Vt1EQqkzjAZidVbZv38/NdPS/D42BunJLkJKU0YClZAlSTuQ6kdJQB8/19ZEer+R\nSMCtaB337OZ0AtleMb8Shy2R3vG95N8L9zUyK4sja9bwxfjxhbxSKRVMGojVWcV4SuwHYEN6pruA\nj5EecnPkB6UyMtw8G0jxc60dmeMtgwT1lmRv9ehtPFAPKZfZFfAdTPYMbc/0Of43EA30DdD2MODD\nlBReHTECt7uwYVwpFSwaiNVZpWrVquwpQAnBLLLniH3ZyN1b3YMkZ3nUAEYgmdfe5iMZ1z8hPeU6\n5N4QIgR4GPkg4O1Bcu6H7G0z8ALwMnDowAHOiY6matmytLvkEoYOHMicOXM0OCtVQmkgVmeV5s2b\nEx+ec5Y2EfgO6eW6gVnAZKATsBwJcgaZGx4KdER6vd7ikI0iPG5CMqgr+Jw3E9mNyVM/ewSwENlB\nylsvJGgnW99PRspldvI5by1SNOQK69z7kUpeWzMyWJWUxKiEBKp/+ilP9OjBRTVrMvHbb3UOWakS\nRgOxOqtceuml7MrKYrfXMRvS+6yJBM6ngPeRqllbkaIbZZEylVHARD/3/QVZwlRYnj5qgs/xaKTI\nx2pkfvl54B3kA4HnuleQZVK3IlXA3gJuRuahKyIJZ1ch655XJyczbu9eXhswgJuvvZbDh/2lnCml\ngkEDsTqrREZGckfv3owLC/v3WCWk93kEqR29hux53duRYJyEDD9/heyi5G0D0mvuXoDn74IU8UhA\nioeMQn4IU/2cezFSRnMksra4unXcAP2RDOuV1t8j83leG9AeZP30/Plc2aIFBw8eLECLlVLFTQOx\nOus8+MQTfBwezt4iuJdB9hy+F1mulJ9OyFxuD6TnegEyzO1v3bAd+Aep+PWI1/G1SICeE+C6vEQC\n72VmcvOePXTv2JFMr+piSqng0ECszjoNGzZk4NCh9LfbOdXZ0onAspAQ+hXimkFID3ofEpCzyFlr\n2iMFWTa1A1nDXA1ZDrUWmQ+OOflmMyozkwrbt/P6K6+cwl2UUkVBA7E6Kw1/8UWO1K3LoxERJx2M\n5wGP2O00atSIzT6PuZAa0y4k0DqtvzuR7RFB5nX7I73dcn7uvxbZEGILMle8xjqvlfXcp8IGjEtN\n5Z3XX2fPnj2neDel1KnQQKzOShEREcycP5+l9erRJyqKo4W41gCf2Wz0cjiYMnMmV3XtyjKfLQlf\nRoaWXwe+tf7+ChKc70CGo1sjtadH+XmOZGT4uRUyJ10FCdypyH7HnmzsDCRTug4SpJsDv1mPbUTW\nMldAkrc6W8c8agK3G8P4Tz4pxKtXShW1s3bTh/3797Ns2TKWL49n584D2Gw2atWqSqtWsbRp04Yq\nVXxTclRplJKSwjOPPcbUCRN4IS2NO5AiHv4YZKnRSw4Hx2vV4qspU2jcuDGrV6/m+rZt2ZaaSliA\nawvrMyQTe7rXsaFIYtkIr2OeGtb3IIF1JrIuOQEJzEeQ3aMMUoxkPNKz9lgN9KhSha0HDhRRy5VS\nhXXWBeKFCxfy8svv8ccf84mIaENycixudw0AQkJ2EROzEqdzKR07dmL48Edp27ZtkFusTofFixfz\nxsiRLFqyhGvCwohNTuZCIBRZZ7wyMpJ54eHYzjmHB4cNo/+AAYR5ZV5ffsklPJyQwO1F0JYsoCnw\nNnCt1/HWyBxx+3yub4IkhN3sc89PkaVMyV7H3UCFiAj+2bOHSpUqnVrDlVIn5awJxCdOnGDIkMeZ\nNm02qanPIhWDA6W7JAHfYLe/ym23deeDD96gTBnfEg6qNNq1axfz5s0jfskSdm7ejMvl4pzKlWnW\nrh2tW7fmsssuw2bLvSHiH3/8Qa9rr2VdWtq/daZP1qvIcqpZZG+9aJCe+gFyFxPxdgDpAa9GhrBB\nCoF4ipW8BDzjc82V5coxcupUOnXyLReilDodzopAvGfPHi6//BoOHGiL0/k2Up6hII4RFfUI1arF\ns3jxbKpVq1aczVRnuEcHD+bvr77ih7S0gDss5WcBUqAjHsmU9shAAnFei42ygOuQOtZjfR5LA762\n7tnV57Gby5blzi++4JZbbjnJViulTkWpT9Y6evQobdpczZ49fXE6x1HwIAxQnvT0L9m161Yuv/wa\nTpw4UVzNVKXA6++9B61bc1t0tN9NIfIzBymN+S05gzBIOUwXgXdkMsCdyDrhD/08Hg0MQDaMOOTz\nWBYQHn6yHx2UUqeq1Afi/v2HcvBgR1yup0/yDjayskayb19rhgx5vEjbpkqXiIgIpv32G+fceCOX\n2u3ML+B1ycDDkZH0LVeOWvXrM8rhYJXPOSFIMlagjSjuQwLsNGRe2x8Xktzlu1hpszGcf/75BWyt\nUqqolepAPHv2bH75ZTFO55uneCcbTuc7TJs2m3nzTnUFpyrNIiIi+GLSJN6bPJl+lSrRtkwZvkY2\ndfCeA0oFFgOPRERQOyqKEzfeyPqtW1m1cSO9X32VGypUoG2ZMrwH/AHsR2pdr/DznAOBTcAMclb3\n+h2ZK3Yj9aofQ5YyXeR1znFgd3o6F13kfVQpdTqV6jniNm06s2xZX2TQDmSmbTDyK+oosnHdq0gF\nYIC5yGZzu4DLgC/JOUj4BR06/MC8eT+dhtarM11WVhY///wzX3/0Ecvj40lLS+Oc8HCyjCExI4NG\ndepw7U030X/IEGrXru332tkzZhC/ZAnb9uwhxemkXWYms7zO24msIY4iuydsQzKkw5GlTnuQoelW\nwOpEOrYAAAnnSURBVGvkrOL1OfBjx47M+N//iuFfQClVEKU2EG/dupXGjVuTnr6L7JL4ea26dCCB\n+QukfP9wpC+y1OuuqURF1WLz5lXUrFnz9LwQVWokJiZy/PhxwsLCqF69OhERBalOnS05OZlaVaqw\nKi2N2vmfni8DxMbE8OqUKXTp0iXf85VSxaPUDk0vXLiQsLBryLkvjR3Zy8YTRLshiz3ikdm1i5Hq\nvxHISsw1kKN4oZ3w8A4sWrSoeBuvSqXKlStTt25d6tSpU+ggDBATE8PDjzzCQ0VQIxtgnM1GaM2a\ndO7cuQjuppQ6WaU2EC9ZEk9ycmw+Zx0A/gYaIxWAm3g9Zgfqkl0ZWCQnx7JkSVwRtlSpgnv2hRfY\nfu65fO5nLXNhbAaei4riqylTCAkptb8GlDojlNqfwK1b95J7EYi3LGTu+G6k9EEyuUvvl0WKe2Qz\nphbbt+8rsnYqVRgRERF8P3MmI8qWZfJJ3uNv4Bq7ndc/+IDGjRsXZfOUUieh1AZimQEL1Gvwt+oy\nBskt9Xac3HWMQnC7A63mVKr4NWzYkNl//MGTFSvycEREgdcsG6SoR9voaEa+9x733n9/MbZSKVVQ\npTYQV69eGdnx1R9/qy4bI4s9PFKQVZu+PYa9nHeebgihguuSSy5hzebNHO3enUZ2O2+GhOQq1OGR\nCUwB2sfE8G7dusxesoT7HnjgNLZWKZWXUhuI27Ztjt0e7+eRQKsub0bmg39Ado19ESm9Xz/H1Q5H\nPG3aNC+OJitVKBUqVGDC1KlMmTeP9bfcQp2ICBqVKcMdMTEMio7mXrudNmXLck54OB81a8ZDn3/O\nig0baNq0abCbrpTyUmqXLyUkJHDZZV1JTd1Gdq83r1WXvYH/AUOs8y4DviLnPHMm0dG1Wb16PvXr\n5wzQSgVbZmYm69evZ926dSQlJREREUG9evVo1qwZZcsWprSrUup0KrWBGKBx49Zs2PAscEMR3fG/\nNGv2IStXLiii+ymllDrbldqhaYARIx7B4XiBvPesKagMHI5RDB8+tAjupZRSSolSHYh79epFs2ZV\nCAsbfcr3Cg9/idat63DzzTfnf7JSSilVQKV6aBpko/cmTVpz9OhbyDxw4dlsX3POOcNJSFiuexIr\npZQqUqW6RwxQs2ZNFi6cRfnyTxAa+hpSyKOgMgkLG8U55wxn0aLZGoSVUkoVuVIfiAEuvvhi1qxZ\nSsuWc3E42gKzCbzFOtZjv+FwtKZ16yWsWbNUt4lTSilVLEr90LQ3Ywxff/0fXnrpXQ4cSCEr61qc\nzlighnXGbiIj4wkL+41q1crx/POP0adPH2ynWNdXKaWUCuSsCsQexhji4uJYtGgRCxbEs2fPfmy2\nEGrUqMqVV8ZyxRVX0Lx5cw3ASimlit1ZGYiVUkqpkuKsmCNWSimlSqqwYDfgbHLw4EHi4uJYu3Yt\nR4+eICIijLp1L6RFixY0bNiQ0NDQ/G+ilFKqVNGh6WJmjGHmzJmMHj2GuLhlREbGkpralKysc4BM\nYmL+AuKIisrkkUcGMmhQfypUqBDsZiullPp/e/cXWmd9x3H8Y3uSQ05LWe3V1hqcJXUdtJvZdrGt\nQ3Rdysr+lILgqEpH0WkVBhZbSsWyizIsdKwQN0Q2vVssSKBXE1ZvnBep/bMyRHahG0kG1nbO2NND\nLG2yi9OxGHVT+5z8Du71uvw9+f34kly8OXnyPFkgQtxBk5OT2bbtvpw6NZlm85Ekd6T9Dyc+yMn0\n9Q2nt/f5PP30E97gBfB/Qog7ZGxsLENDP0yrtTOXL+9N0vMRd76URmN7duzYksOHD/rLbYBPOSHu\ngDNnzmTDhu+k2fxtku99ghPeSqOxKfffvzGHDv286vEA6CJCXLHp6encfPNgxsf3Jrn7Gk76RxqN\nwYyOPpWhoaGqxgOgy3h8qWL79x/I+fNrk9x1jSetSKv1VLZtuzetVquK0QDoQkJcoYsXL2Z4+Fdp\ntQ4lmXtv9+4kn03ymSRfSPKbq+uvJvlakuuTrEgydHXt34YyPb0uIyMjHZ8dgDKEuEIjIyNZtOib\nSW6cd2Vvkr8meTvJ0SSPJjmd9juujyR5K8n5JN9Pcud7djabO3Pw4K87OjcA5QhxhY4efSHN5pYP\nuPLF/Oexpdm0Py2/lmRZks9fXb+S9o/jtXl7h/L6669mamqqAxMDUJoQV+jEiZNJvvohVx9MsiTJ\n2iSfS7J5zrXlSRpJfppk37x9tfT1rc/p06crnhaAbiDEFTp3biLJTR9y9YkkzSR/TLI1SX3OtX8m\nmUoynORL79s5M3NTJiYmKp0VgO4gxBWanZ3Jf/+WXpfkG0kmksy/79uX5CdJ7kn7fvHccxfnypUr\n1Q0KQNcQ4gotXXp9kjc/wldezvvvBSft+8StJH9/z+rixW96/zTAp5QQV2jduluSnJq3ei7Js0ku\nJplJ8nySkSTfTvKHJH+6uv5OkofTfpRp7Zz9s7l06WQGBwc7OzwARQhxhTZu/Hrq9WPzVq9L+9fQ\nN6Qd2d1JDqf96su3k/wo7eeLB9J+xOn3SXrn7H8ljUY9K1eu7PD0AJTgFZcVGh8fz5o1X867744n\nWVrJmfX6Q9m1a0UOHPhZJecB0F18Iq5Qf39/brvt9tRqv6zoxL9l0aLf5YEH7q3oPAC6jRBX7Mkn\nf5F6/XCSP1/jSTNZsmRH9u3bnVWrVlUxGgBdSIgr1t/fn+HhQ2k0tiSZ/ISnzKa39+GsWXMpe/bs\nqnI8ALqMEHfA9u335LHHdqbR+FaS4x9z94XU6z/O6tUv5dixo6nVap0YEYAuIcQdsmfPrjzzzMEs\nW/aD9PQ8kuSN/7HjcpLn0misy9atizM29kKWL1++AJMCUJK/mu6ws2fPZvfu/Tly5NnUaren2dyQ\n5Ja03y99Kclf0tNzIj09z2Vg4MY8/vij2bRpU9mhAVgwQrxApqamMjo6mhdffDnHj5/JhQvvpFbr\nycDA6tx661eyefN3s379+tJjArDAhBgACnKPGAAKEmIAKEiIAaAgIQaAgoQYAAoSYgAoSIgBoCAh\nBoCChBgAChJiAChIiAGgICEGgIKEGAAKEmIAKEiIAaAgIQaAgoQYAAoSYgAoSIgBoCAhBoCChBgA\nChJiAChIiAGgICEGgIKEGAAKEmIAKEiIAaAgIQaAgoQYAAoSYgAoSIgBoCAhBoCChBgAChJiAChI\niAGgICEGgIKEGAAKEmIAKEiIAaAgIQaAgoQYAAoSYgAoSIgBoCAhBoCChBgAChJiAChIiAGgICEG\ngIKEGAAKEmIAKEiIAaAgIQaAgoQYAAoSYgAoSIgBoCAhBoCChBgAChJiAChIiAGgICEGgIKEGAAK\nEmIAKEiIAaAgIQaAgoQYAAoSYgAoSIgBoCAhBoCChBgACvoXewGvxxlBjd4AAAAASUVORK5CYII=\n",
      "text/plain": [
       "<matplotlib.figure.Figure at 0xa995a90>"
      ]
     },
     "metadata": {},
     "output_type": "display_data"
    }
   ],
   "source": [
    "nx.draw(G, node_color = c, with_labels = True, node_size = 500)"
   ]
  },
  {
   "cell_type": "code",
   "execution_count": 38,
   "metadata": {
    "collapsed": false
   },
   "outputs": [
    {
     "data": {
      "text/plain": [
       "[(1, 1),\n",
       " (1, 2),\n",
       " (1, 11),\n",
       " (1, 5),\n",
       " (1, 33),\n",
       " (2, 39),\n",
       " (3, 15),\n",
       " (3, 9),\n",
       " (3, 3),\n",
       " (3, 30),\n",
       " (3, 7),\n",
       " (4, 4),\n",
       " (5, 10),\n",
       " (5, 22),\n",
       " (5, 31),\n",
       " (6, 8),\n",
       " (6, 6),\n",
       " (7, 27),\n",
       " (7, 13),\n",
       " (7, 23),\n",
       " (8, 16),\n",
       " (8, 38),\n",
       " (9, 28),\n",
       " (10, 17),\n",
       " (10, 26),\n",
       " (11, 34),\n",
       " (11, 20),\n",
       " (11, 14),\n",
       " (12, 12),\n",
       " (13, 35),\n",
       " (13, 29),\n",
       " (14, 37),\n",
       " (16, 18),\n",
       " (17, 17),\n",
       " (17, 19),\n",
       " (18, 32),\n",
       " (20, 21),\n",
       " (22, 24),\n",
       " (23, 25),\n",
       " (24, 33),\n",
       " (27, 40),\n",
       " (27, 39),\n",
       " (29, 36)]"
      ]
     },
     "execution_count": 38,
     "metadata": {},
     "output_type": "execute_result"
    }
   ],
   "source": [
    "G.edges()"
   ]
  },
  {
   "cell_type": "code",
   "execution_count": null,
   "metadata": {
    "collapsed": true
   },
   "outputs": [],
   "source": []
  }
 ],
 "metadata": {
  "kernelspec": {
   "display_name": "Python 3",
   "language": "python",
   "name": "python3"
  },
  "language_info": {
   "codemirror_mode": {
    "name": "ipython",
    "version": 3
   },
   "file_extension": ".py",
   "mimetype": "text/x-python",
   "name": "python",
   "nbconvert_exporter": "python",
   "pygments_lexer": "ipython3",
   "version": "3.5.1"
  }
 },
 "nbformat": 4,
 "nbformat_minor": 0
}
